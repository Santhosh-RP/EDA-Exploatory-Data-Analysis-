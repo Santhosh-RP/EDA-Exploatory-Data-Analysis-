{
 "cells": [
  {
   "cell_type": "markdown",
   "id": "32f3fcc8-12f7-4844-ad64-ffabfe38ba9b",
   "metadata": {},
   "source": [
    " ## Importing Required libraries \n",
    " "
   ]
  },
  {
   "cell_type": "code",
   "execution_count": 1,
   "id": "27f9cbda-f017-4494-95e7-b994a5ade98e",
   "metadata": {},
   "outputs": [],
   "source": [
    "import numpy as np\n",
    "import pandas as pd\n",
    "import seaborn as sns\n",
    "from matplotlib import pyplot as plt\n",
    "import warnings\n",
    "import missingno as msno\n",
    "warnings.filterwarnings('ignore')\n"
   ]
  },
  {
   "cell_type": "code",
   "execution_count": 2,
   "id": "82550533-ea9b-4627-9a7f-9f8951c18cb8",
   "metadata": {},
   "outputs": [],
   "source": [
    "dr=pd.read_csv(\"Electric cars.csv\") # importing dataset from local directory"
   ]
  },
  {
   "cell_type": "code",
   "execution_count": 3,
   "id": "914563ea-3b98-4c03-a132-3fc0820422c2",
   "metadata": {},
   "outputs": [
    {
     "data": {
      "text/html": [
       "<div>\n",
       "<style scoped>\n",
       "    .dataframe tbody tr th:only-of-type {\n",
       "        vertical-align: middle;\n",
       "    }\n",
       "\n",
       "    .dataframe tbody tr th {\n",
       "        vertical-align: top;\n",
       "    }\n",
       "\n",
       "    .dataframe thead th {\n",
       "        text-align: right;\n",
       "    }\n",
       "</style>\n",
       "<table border=\"1\" class=\"dataframe\">\n",
       "  <thead>\n",
       "    <tr style=\"text-align: right;\">\n",
       "      <th></th>\n",
       "      <th>Year</th>\n",
       "      <th>BEV average price (USD)</th>\n",
       "      <th>Global Sales Volume</th>\n",
       "      <th>Mileage (Km)</th>\n",
       "      <th>Lithium Ion Battery Price (USD)</th>\n",
       "      <th>Unnamed: 5</th>\n",
       "      <th>Unnamed: 6</th>\n",
       "      <th>Average price of new car</th>\n",
       "    </tr>\n",
       "  </thead>\n",
       "  <tbody>\n",
       "    <tr>\n",
       "      <th>0</th>\n",
       "      <td>2010.0</td>\n",
       "      <td>64032.0</td>\n",
       "      <td>50000</td>\n",
       "      <td>127</td>\n",
       "      <td>1191.0</td>\n",
       "      <td>NaN</td>\n",
       "      <td>NaN</td>\n",
       "      <td>37500.0</td>\n",
       "    </tr>\n",
       "    <tr>\n",
       "      <th>1</th>\n",
       "      <td>2011.0</td>\n",
       "      <td>51736.0</td>\n",
       "      <td>60000</td>\n",
       "      <td>139</td>\n",
       "      <td>924.0</td>\n",
       "      <td>NaN</td>\n",
       "      <td>NaN</td>\n",
       "      <td>37311.0</td>\n",
       "    </tr>\n",
       "    <tr>\n",
       "      <th>2</th>\n",
       "      <td>2012.0</td>\n",
       "      <td>52084.0</td>\n",
       "      <td>80000</td>\n",
       "      <td>160</td>\n",
       "      <td>726.0</td>\n",
       "      <td>NaN</td>\n",
       "      <td>NaN</td>\n",
       "      <td>36874.0</td>\n",
       "    </tr>\n",
       "    <tr>\n",
       "      <th>3</th>\n",
       "      <td>2013.0</td>\n",
       "      <td>56028.0</td>\n",
       "      <td>150000</td>\n",
       "      <td>189</td>\n",
       "      <td>668.0</td>\n",
       "      <td>NaN</td>\n",
       "      <td>NaN</td>\n",
       "      <td>37826.0</td>\n",
       "    </tr>\n",
       "    <tr>\n",
       "      <th>4</th>\n",
       "      <td>2014.0</td>\n",
       "      <td>44776.0</td>\n",
       "      <td>224700</td>\n",
       "      <td>210</td>\n",
       "      <td>592.0</td>\n",
       "      <td>NaN</td>\n",
       "      <td>NaN</td>\n",
       "      <td>37519.0</td>\n",
       "    </tr>\n",
       "  </tbody>\n",
       "</table>\n",
       "</div>"
      ],
      "text/plain": [
       "     Year  BEV average price (USD) Global Sales Volume Mileage (Km)  \\\n",
       "0  2010.0                  64032.0               50000          127   \n",
       "1  2011.0                  51736.0               60000          139   \n",
       "2  2012.0                  52084.0               80000          160   \n",
       "3  2013.0                  56028.0              150000          189   \n",
       "4  2014.0                  44776.0              224700          210   \n",
       "\n",
       "   Lithium Ion Battery Price (USD)  Unnamed: 5  Unnamed: 6  \\\n",
       "0                           1191.0         NaN         NaN   \n",
       "1                            924.0         NaN         NaN   \n",
       "2                            726.0         NaN         NaN   \n",
       "3                            668.0         NaN         NaN   \n",
       "4                            592.0         NaN         NaN   \n",
       "\n",
       "   Average price of new car  \n",
       "0                   37500.0  \n",
       "1                   37311.0  \n",
       "2                   36874.0  \n",
       "3                   37826.0  \n",
       "4                   37519.0  "
      ]
     },
     "execution_count": 3,
     "metadata": {},
     "output_type": "execute_result"
    }
   ],
   "source": [
    "dr.head() # reading first 5 records from dataset"
   ]
  },
  {
   "cell_type": "code",
   "execution_count": 4,
   "id": "c8b1dc45-6ef3-41e5-8fe9-7f38d6f5eb0a",
   "metadata": {},
   "outputs": [
    {
     "data": {
      "text/plain": [
       "(16, 8)"
      ]
     },
     "execution_count": 4,
     "metadata": {},
     "output_type": "execute_result"
    }
   ],
   "source": [
    "dr.shape # it returns the total no of records and features are avilable in dataset"
   ]
  },
  {
   "cell_type": "code",
   "execution_count": 5,
   "id": "880cc9f6-01d1-4d3b-ac60-b488c012743d",
   "metadata": {},
   "outputs": [
    {
     "name": "stdout",
     "output_type": "stream",
     "text": [
      "<class 'pandas.core.frame.DataFrame'>\n",
      "RangeIndex: 16 entries, 0 to 15\n",
      "Data columns (total 8 columns):\n",
      " #   Column                           Non-Null Count  Dtype  \n",
      "---  ------                           --------------  -----  \n",
      " 0   Year                             13 non-null     float64\n",
      " 1   BEV average price (USD)          13 non-null     float64\n",
      " 2   Global Sales Volume              13 non-null     object \n",
      " 3   Mileage (Km)                     14 non-null     object \n",
      " 4   Lithium Ion Battery Price (USD)  13 non-null     float64\n",
      " 5   Unnamed: 5                       0 non-null      float64\n",
      " 6   Unnamed: 6                       0 non-null      float64\n",
      " 7   Average price of new car         13 non-null     float64\n",
      "dtypes: float64(6), object(2)\n",
      "memory usage: 1.1+ KB\n"
     ]
    }
   ],
   "source": [
    "dr.info() # it describes about information of each record in dataset"
   ]
  },
  {
   "cell_type": "code",
   "execution_count": 6,
   "id": "f60d7ca9-850e-47a0-86cc-9124ff28b1a0",
   "metadata": {},
   "outputs": [
    {
     "data": {
      "text/plain": [
       "Year                                3\n",
       "BEV average price (USD)             3\n",
       "Global Sales Volume                 3\n",
       "Mileage (Km)                        2\n",
       "Lithium Ion Battery Price (USD)     3\n",
       "Unnamed: 5                         16\n",
       "Unnamed: 6                         16\n",
       "Average price of new car            3\n",
       "dtype: int64"
      ]
     },
     "execution_count": 6,
     "metadata": {},
     "output_type": "execute_result"
    }
   ],
   "source": [
    "dr.isnull().sum() # it returns how many 'NaN' values present in each feature"
   ]
  },
  {
   "cell_type": "code",
   "execution_count": 7,
   "id": "ad005326-8f16-4cf1-ac3a-f101594820fc",
   "metadata": {},
   "outputs": [],
   "source": [
    "total=dr.isnull().sum().sum() # it returns total sum of 'NaN' Values are present"
   ]
  },
  {
   "cell_type": "code",
   "execution_count": 8,
   "id": "d3ac5c60-6189-4cd9-81b4-7e83ff091ce0",
   "metadata": {},
   "outputs": [
    {
     "data": {
      "text/plain": [
       "49"
      ]
     },
     "execution_count": 8,
     "metadata": {},
     "output_type": "execute_result"
    }
   ],
   "source": [
    "total"
   ]
  },
  {
   "cell_type": "code",
   "execution_count": 9,
   "id": "0008e3c6-cc76-4296-95ce-4263d7297762",
   "metadata": {},
   "outputs": [
    {
     "data": {
      "text/plain": [
       "<AxesSubplot:>"
      ]
     },
     "execution_count": 9,
     "metadata": {},
     "output_type": "execute_result"
    },
    {
     "data": {
      "image/png": "[encoded data removed]",
      "text/plain": [
       "<Figure size 432x288 with 2 Axes>"
      ]
     },
     "metadata": {
      "needs_background": "light"
     },
     "output_type": "display_data"
    }
   ],
   "source": [
    "sns.heatmap(dr.isnull())"
   ]
  },
  {
   "cell_type": "code",
   "execution_count": 10,
   "id": "4d47a066-8e1a-4bea-9e68-8deecec9f4b4",
   "metadata": {},
   "outputs": [
    {
     "data": {
      "text/plain": [
       "<AxesSubplot:>"
      ]
     },
     "execution_count": 10,
     "metadata": {},
     "output_type": "execute_result"
    },
    {
     "data": {
      "image/png": "[encoded data removed]",
      "text/plain": [
       "<Figure size 1800x720 with 2 Axes>"
      ]
     },
     "metadata": {
      "needs_background": "light"
     },
     "output_type": "display_data"
    }
   ],
   "source": [
    "msno.matrix(dr)"
   ]
  },
  {
   "cell_type": "code",
   "execution_count": 11,
   "id": "e9bde287-78dd-4bc0-bf42-87118b8ef2ba",
   "metadata": {},
   "outputs": [
    {
     "data": {
      "text/html": [
       "<div>\n",
       "<style scoped>\n",
       "    .dataframe tbody tr th:only-of-type {\n",
       "        vertical-align: middle;\n",
       "    }\n",
       "\n",
       "    .dataframe tbody tr th {\n",
       "        vertical-align: top;\n",
       "    }\n",
       "\n",
       "    .dataframe thead th {\n",
       "        text-align: right;\n",
       "    }\n",
       "</style>\n",
       "<table border=\"1\" class=\"dataframe\">\n",
       "  <thead>\n",
       "    <tr style=\"text-align: right;\">\n",
       "      <th></th>\n",
       "      <th>Year</th>\n",
       "      <th>BEV average price (USD)</th>\n",
       "      <th>Global Sales Volume</th>\n",
       "      <th>Mileage (Km)</th>\n",
       "      <th>Lithium Ion Battery Price (USD)</th>\n",
       "      <th>Unnamed: 5</th>\n",
       "      <th>Unnamed: 6</th>\n",
       "      <th>Average price of new car</th>\n",
       "    </tr>\n",
       "  </thead>\n",
       "  <tbody>\n",
       "    <tr>\n",
       "      <th>11</th>\n",
       "      <td>2021.0</td>\n",
       "      <td>52900.0</td>\n",
       "      <td>4792500</td>\n",
       "      <td>349</td>\n",
       "      <td>132.0</td>\n",
       "      <td>NaN</td>\n",
       "      <td>NaN</td>\n",
       "      <td>49185.0</td>\n",
       "    </tr>\n",
       "    <tr>\n",
       "      <th>12</th>\n",
       "      <td>2022.0</td>\n",
       "      <td>67000.0</td>\n",
       "      <td>NaN</td>\n",
       "      <td>400</td>\n",
       "      <td>135.0</td>\n",
       "      <td>NaN</td>\n",
       "      <td>NaN</td>\n",
       "      <td>48000.0</td>\n",
       "    </tr>\n",
       "    <tr>\n",
       "      <th>13</th>\n",
       "      <td>NaN</td>\n",
       "      <td>NaN</td>\n",
       "      <td>NaN</td>\n",
       "      <td>NaN</td>\n",
       "      <td>NaN</td>\n",
       "      <td>NaN</td>\n",
       "      <td>NaN</td>\n",
       "      <td>NaN</td>\n",
       "    </tr>\n",
       "    <tr>\n",
       "      <th>14</th>\n",
       "      <td>NaN</td>\n",
       "      <td>NaN</td>\n",
       "      <td>NaN</td>\n",
       "      <td>NaN</td>\n",
       "      <td>NaN</td>\n",
       "      <td>NaN</td>\n",
       "      <td>NaN</td>\n",
       "      <td>NaN</td>\n",
       "    </tr>\n",
       "    <tr>\n",
       "      <th>15</th>\n",
       "      <td>NaN</td>\n",
       "      <td>NaN</td>\n",
       "      <td></td>\n",
       "      <td>The prices have been adjusted to 2022 dollar v...</td>\n",
       "      <td>NaN</td>\n",
       "      <td>NaN</td>\n",
       "      <td>NaN</td>\n",
       "      <td>NaN</td>\n",
       "    </tr>\n",
       "  </tbody>\n",
       "</table>\n",
       "</div>"
      ],
      "text/plain": [
       "      Year  BEV average price (USD) Global Sales Volume  \\\n",
       "11  2021.0                  52900.0             4792500   \n",
       "12  2022.0                  67000.0                 NaN   \n",
       "13     NaN                      NaN                 NaN   \n",
       "14     NaN                      NaN                 NaN   \n",
       "15     NaN                      NaN                       \n",
       "\n",
       "                                         Mileage (Km)  \\\n",
       "11                                                349   \n",
       "12                                                400   \n",
       "13                                                NaN   \n",
       "14                                                NaN   \n",
       "15  The prices have been adjusted to 2022 dollar v...   \n",
       "\n",
       "    Lithium Ion Battery Price (USD)  Unnamed: 5  Unnamed: 6  \\\n",
       "11                            132.0         NaN         NaN   \n",
       "12                            135.0         NaN         NaN   \n",
       "13                              NaN         NaN         NaN   \n",
       "14                              NaN         NaN         NaN   \n",
       "15                              NaN         NaN         NaN   \n",
       "\n",
       "    Average price of new car  \n",
       "11                   49185.0  \n",
       "12                   48000.0  \n",
       "13                       NaN  \n",
       "14                       NaN  \n",
       "15                       NaN  "
      ]
     },
     "execution_count": 11,
     "metadata": {},
     "output_type": "execute_result"
    }
   ],
   "source": [
    "dr.tail(5)"
   ]
  },
  {
   "cell_type": "code",
   "execution_count": 12,
   "id": "57b41db6-3cae-4988-855b-56589bc801d0",
   "metadata": {},
   "outputs": [],
   "source": [
    "dr.drop(['Unnamed: 5'], axis=1,inplace=True) # droping a feature"
   ]
  },
  {
   "cell_type": "code",
   "execution_count": 13,
   "id": "353bb14d-0a14-46f6-8b93-1ab8e49455f2",
   "metadata": {},
   "outputs": [],
   "source": [
    "dr.drop(['Unnamed: 6'], axis=1,inplace=True) #droping a feature"
   ]
  },
  {
   "cell_type": "code",
   "execution_count": 14,
   "id": "8d633505-1f39-423c-be0e-ae63dc4e1a8c",
   "metadata": {},
   "outputs": [
    {
     "data": {
      "text/html": [
       "<div>\n",
       "<style scoped>\n",
       "    .dataframe tbody tr th:only-of-type {\n",
       "        vertical-align: middle;\n",
       "    }\n",
       "\n",
       "    .dataframe tbody tr th {\n",
       "        vertical-align: top;\n",
       "    }\n",
       "\n",
       "    .dataframe thead th {\n",
       "        text-align: right;\n",
       "    }\n",
       "</style>\n",
       "<table border=\"1\" class=\"dataframe\">\n",
       "  <thead>\n",
       "    <tr style=\"text-align: right;\">\n",
       "      <th></th>\n",
       "      <th>Year</th>\n",
       "      <th>BEV average price (USD)</th>\n",
       "      <th>Global Sales Volume</th>\n",
       "      <th>Mileage (Km)</th>\n",
       "      <th>Lithium Ion Battery Price (USD)</th>\n",
       "      <th>Average price of new car</th>\n",
       "    </tr>\n",
       "  </thead>\n",
       "  <tbody>\n",
       "    <tr>\n",
       "      <th>0</th>\n",
       "      <td>2010.0</td>\n",
       "      <td>64032.0</td>\n",
       "      <td>50000</td>\n",
       "      <td>127</td>\n",
       "      <td>1191.0</td>\n",
       "      <td>37500.0</td>\n",
       "    </tr>\n",
       "    <tr>\n",
       "      <th>1</th>\n",
       "      <td>2011.0</td>\n",
       "      <td>51736.0</td>\n",
       "      <td>60000</td>\n",
       "      <td>139</td>\n",
       "      <td>924.0</td>\n",
       "      <td>37311.0</td>\n",
       "    </tr>\n",
       "    <tr>\n",
       "      <th>2</th>\n",
       "      <td>2012.0</td>\n",
       "      <td>52084.0</td>\n",
       "      <td>80000</td>\n",
       "      <td>160</td>\n",
       "      <td>726.0</td>\n",
       "      <td>36874.0</td>\n",
       "    </tr>\n",
       "    <tr>\n",
       "      <th>3</th>\n",
       "      <td>2013.0</td>\n",
       "      <td>56028.0</td>\n",
       "      <td>150000</td>\n",
       "      <td>189</td>\n",
       "      <td>668.0</td>\n",
       "      <td>37826.0</td>\n",
       "    </tr>\n",
       "    <tr>\n",
       "      <th>4</th>\n",
       "      <td>2014.0</td>\n",
       "      <td>44776.0</td>\n",
       "      <td>224700</td>\n",
       "      <td>210</td>\n",
       "      <td>592.0</td>\n",
       "      <td>37519.0</td>\n",
       "    </tr>\n",
       "    <tr>\n",
       "      <th>5</th>\n",
       "      <td>2015.0</td>\n",
       "      <td>42340.0</td>\n",
       "      <td>380100</td>\n",
       "      <td>211</td>\n",
       "      <td>384.0</td>\n",
       "      <td>38240.0</td>\n",
       "    </tr>\n",
       "    <tr>\n",
       "      <th>6</th>\n",
       "      <td>2016.0</td>\n",
       "      <td>46284.0</td>\n",
       "      <td>506880</td>\n",
       "      <td>233</td>\n",
       "      <td>295.0</td>\n",
       "      <td>38455.0</td>\n",
       "    </tr>\n",
       "    <tr>\n",
       "      <th>7</th>\n",
       "      <td>2017.0</td>\n",
       "      <td>44776.0</td>\n",
       "      <td>846210</td>\n",
       "      <td>267</td>\n",
       "      <td>221.0</td>\n",
       "      <td>38350.0</td>\n",
       "    </tr>\n",
       "    <tr>\n",
       "      <th>8</th>\n",
       "      <td>2018.0</td>\n",
       "      <td>41412.0</td>\n",
       "      <td>1436580</td>\n",
       "      <td>304</td>\n",
       "      <td>181.0</td>\n",
       "      <td>38365.0</td>\n",
       "    </tr>\n",
       "    <tr>\n",
       "      <th>9</th>\n",
       "      <td>2019.0</td>\n",
       "      <td>42804.0</td>\n",
       "      <td>1708500</td>\n",
       "      <td>336</td>\n",
       "      <td>157.0</td>\n",
       "      <td>40546.0</td>\n",
       "    </tr>\n",
       "    <tr>\n",
       "      <th>10</th>\n",
       "      <td>2020.0</td>\n",
       "      <td>54600.0</td>\n",
       "      <td>2268000</td>\n",
       "      <td>338</td>\n",
       "      <td>137.0</td>\n",
       "      <td>44021.0</td>\n",
       "    </tr>\n",
       "    <tr>\n",
       "      <th>11</th>\n",
       "      <td>2021.0</td>\n",
       "      <td>52900.0</td>\n",
       "      <td>4792500</td>\n",
       "      <td>349</td>\n",
       "      <td>132.0</td>\n",
       "      <td>49185.0</td>\n",
       "    </tr>\n",
       "    <tr>\n",
       "      <th>12</th>\n",
       "      <td>2022.0</td>\n",
       "      <td>67000.0</td>\n",
       "      <td>NaN</td>\n",
       "      <td>400</td>\n",
       "      <td>135.0</td>\n",
       "      <td>48000.0</td>\n",
       "    </tr>\n",
       "    <tr>\n",
       "      <th>13</th>\n",
       "      <td>NaN</td>\n",
       "      <td>NaN</td>\n",
       "      <td>NaN</td>\n",
       "      <td>NaN</td>\n",
       "      <td>NaN</td>\n",
       "      <td>NaN</td>\n",
       "    </tr>\n",
       "    <tr>\n",
       "      <th>14</th>\n",
       "      <td>NaN</td>\n",
       "      <td>NaN</td>\n",
       "      <td>NaN</td>\n",
       "      <td>NaN</td>\n",
       "      <td>NaN</td>\n",
       "      <td>NaN</td>\n",
       "    </tr>\n",
       "    <tr>\n",
       "      <th>15</th>\n",
       "      <td>NaN</td>\n",
       "      <td>NaN</td>\n",
       "      <td></td>\n",
       "      <td>The prices have been adjusted to 2022 dollar v...</td>\n",
       "      <td>NaN</td>\n",
       "      <td>NaN</td>\n",
       "    </tr>\n",
       "  </tbody>\n",
       "</table>\n",
       "</div>"
      ],
      "text/plain": [
       "      Year  BEV average price (USD) Global Sales Volume  \\\n",
       "0   2010.0                  64032.0               50000   \n",
       "1   2011.0                  51736.0               60000   \n",
       "2   2012.0                  52084.0               80000   \n",
       "3   2013.0                  56028.0              150000   \n",
       "4   2014.0                  44776.0              224700   \n",
       "5   2015.0                  42340.0              380100   \n",
       "6   2016.0                  46284.0              506880   \n",
       "7   2017.0                  44776.0              846210   \n",
       "8   2018.0                  41412.0             1436580   \n",
       "9   2019.0                  42804.0             1708500   \n",
       "10  2020.0                  54600.0             2268000   \n",
       "11  2021.0                  52900.0             4792500   \n",
       "12  2022.0                  67000.0                 NaN   \n",
       "13     NaN                      NaN                 NaN   \n",
       "14     NaN                      NaN                 NaN   \n",
       "15     NaN                      NaN                       \n",
       "\n",
       "                                         Mileage (Km)  \\\n",
       "0                                                 127   \n",
       "1                                                 139   \n",
       "2                                                 160   \n",
       "3                                                 189   \n",
       "4                                                 210   \n",
       "5                                                 211   \n",
       "6                                                 233   \n",
       "7                                                 267   \n",
       "8                                                 304   \n",
       "9                                                 336   \n",
       "10                                                338   \n",
       "11                                                349   \n",
       "12                                                400   \n",
       "13                                                NaN   \n",
       "14                                                NaN   \n",
       "15  The prices have been adjusted to 2022 dollar v...   \n",
       "\n",
       "    Lithium Ion Battery Price (USD)  Average price of new car  \n",
       "0                            1191.0                   37500.0  \n",
       "1                             924.0                   37311.0  \n",
       "2                             726.0                   36874.0  \n",
       "3                             668.0                   37826.0  \n",
       "4                             592.0                   37519.0  \n",
       "5                             384.0                   38240.0  \n",
       "6                             295.0                   38455.0  \n",
       "7                             221.0                   38350.0  \n",
       "8                             181.0                   38365.0  \n",
       "9                             157.0                   40546.0  \n",
       "10                            137.0                   44021.0  \n",
       "11                            132.0                   49185.0  \n",
       "12                            135.0                   48000.0  \n",
       "13                              NaN                       NaN  \n",
       "14                              NaN                       NaN  \n",
       "15                              NaN                       NaN  "
      ]
     },
     "execution_count": 14,
     "metadata": {},
     "output_type": "execute_result"
    }
   ],
   "source": [
    "dr"
   ]
  },
  {
   "cell_type": "code",
   "execution_count": 15,
   "id": "0ebe16cb-1bdd-4880-9bf9-4867b31e8dfe",
   "metadata": {},
   "outputs": [],
   "source": [
    "dr.drop([13,14,15], axis=0, inplace=True) # droping 3records from dataset"
   ]
  },
  {
   "cell_type": "code",
   "execution_count": 16,
   "id": "e08e6384-cc73-40c1-8ae9-942dea2f561b",
   "metadata": {},
   "outputs": [
    {
     "data": {
      "text/html": [
       "<div>\n",
       "<style scoped>\n",
       "    .dataframe tbody tr th:only-of-type {\n",
       "        vertical-align: middle;\n",
       "    }\n",
       "\n",
       "    .dataframe tbody tr th {\n",
       "        vertical-align: top;\n",
       "    }\n",
       "\n",
       "    .dataframe thead th {\n",
       "        text-align: right;\n",
       "    }\n",
       "</style>\n",
       "<table border=\"1\" class=\"dataframe\">\n",
       "  <thead>\n",
       "    <tr style=\"text-align: right;\">\n",
       "      <th></th>\n",
       "      <th>Year</th>\n",
       "      <th>BEV average price (USD)</th>\n",
       "      <th>Global Sales Volume</th>\n",
       "      <th>Mileage (Km)</th>\n",
       "      <th>Lithium Ion Battery Price (USD)</th>\n",
       "      <th>Average price of new car</th>\n",
       "    </tr>\n",
       "  </thead>\n",
       "  <tbody>\n",
       "    <tr>\n",
       "      <th>0</th>\n",
       "      <td>2010.0</td>\n",
       "      <td>64032.0</td>\n",
       "      <td>50000</td>\n",
       "      <td>127</td>\n",
       "      <td>1191.0</td>\n",
       "      <td>37500.0</td>\n",
       "    </tr>\n",
       "    <tr>\n",
       "      <th>1</th>\n",
       "      <td>2011.0</td>\n",
       "      <td>51736.0</td>\n",
       "      <td>60000</td>\n",
       "      <td>139</td>\n",
       "      <td>924.0</td>\n",
       "      <td>37311.0</td>\n",
       "    </tr>\n",
       "    <tr>\n",
       "      <th>2</th>\n",
       "      <td>2012.0</td>\n",
       "      <td>52084.0</td>\n",
       "      <td>80000</td>\n",
       "      <td>160</td>\n",
       "      <td>726.0</td>\n",
       "      <td>36874.0</td>\n",
       "    </tr>\n",
       "    <tr>\n",
       "      <th>3</th>\n",
       "      <td>2013.0</td>\n",
       "      <td>56028.0</td>\n",
       "      <td>150000</td>\n",
       "      <td>189</td>\n",
       "      <td>668.0</td>\n",
       "      <td>37826.0</td>\n",
       "    </tr>\n",
       "    <tr>\n",
       "      <th>4</th>\n",
       "      <td>2014.0</td>\n",
       "      <td>44776.0</td>\n",
       "      <td>224700</td>\n",
       "      <td>210</td>\n",
       "      <td>592.0</td>\n",
       "      <td>37519.0</td>\n",
       "    </tr>\n",
       "    <tr>\n",
       "      <th>5</th>\n",
       "      <td>2015.0</td>\n",
       "      <td>42340.0</td>\n",
       "      <td>380100</td>\n",
       "      <td>211</td>\n",
       "      <td>384.0</td>\n",
       "      <td>38240.0</td>\n",
       "    </tr>\n",
       "    <tr>\n",
       "      <th>6</th>\n",
       "      <td>2016.0</td>\n",
       "      <td>46284.0</td>\n",
       "      <td>506880</td>\n",
       "      <td>233</td>\n",
       "      <td>295.0</td>\n",
       "      <td>38455.0</td>\n",
       "    </tr>\n",
       "    <tr>\n",
       "      <th>7</th>\n",
       "      <td>2017.0</td>\n",
       "      <td>44776.0</td>\n",
       "      <td>846210</td>\n",
       "      <td>267</td>\n",
       "      <td>221.0</td>\n",
       "      <td>38350.0</td>\n",
       "    </tr>\n",
       "    <tr>\n",
       "      <th>8</th>\n",
       "      <td>2018.0</td>\n",
       "      <td>41412.0</td>\n",
       "      <td>1436580</td>\n",
       "      <td>304</td>\n",
       "      <td>181.0</td>\n",
       "      <td>38365.0</td>\n",
       "    </tr>\n",
       "    <tr>\n",
       "      <th>9</th>\n",
       "      <td>2019.0</td>\n",
       "      <td>42804.0</td>\n",
       "      <td>1708500</td>\n",
       "      <td>336</td>\n",
       "      <td>157.0</td>\n",
       "      <td>40546.0</td>\n",
       "    </tr>\n",
       "    <tr>\n",
       "      <th>10</th>\n",
       "      <td>2020.0</td>\n",
       "      <td>54600.0</td>\n",
       "      <td>2268000</td>\n",
       "      <td>338</td>\n",
       "      <td>137.0</td>\n",
       "      <td>44021.0</td>\n",
       "    </tr>\n",
       "    <tr>\n",
       "      <th>11</th>\n",
       "      <td>2021.0</td>\n",
       "      <td>52900.0</td>\n",
       "      <td>4792500</td>\n",
       "      <td>349</td>\n",
       "      <td>132.0</td>\n",
       "      <td>49185.0</td>\n",
       "    </tr>\n",
       "    <tr>\n",
       "      <th>12</th>\n",
       "      <td>2022.0</td>\n",
       "      <td>67000.0</td>\n",
       "      <td>NaN</td>\n",
       "      <td>400</td>\n",
       "      <td>135.0</td>\n",
       "      <td>48000.0</td>\n",
       "    </tr>\n",
       "  </tbody>\n",
       "</table>\n",
       "</div>"
      ],
      "text/plain": [
       "      Year  BEV average price (USD) Global Sales Volume Mileage (Km)  \\\n",
       "0   2010.0                  64032.0               50000          127   \n",
       "1   2011.0                  51736.0               60000          139   \n",
       "2   2012.0                  52084.0               80000          160   \n",
       "3   2013.0                  56028.0              150000          189   \n",
       "4   2014.0                  44776.0              224700          210   \n",
       "5   2015.0                  42340.0              380100          211   \n",
       "6   2016.0                  46284.0              506880          233   \n",
       "7   2017.0                  44776.0              846210          267   \n",
       "8   2018.0                  41412.0             1436580          304   \n",
       "9   2019.0                  42804.0             1708500          336   \n",
       "10  2020.0                  54600.0             2268000          338   \n",
       "11  2021.0                  52900.0             4792500          349   \n",
       "12  2022.0                  67000.0                 NaN          400   \n",
       "\n",
       "    Lithium Ion Battery Price (USD)  Average price of new car  \n",
       "0                            1191.0                   37500.0  \n",
       "1                             924.0                   37311.0  \n",
       "2                             726.0                   36874.0  \n",
       "3                             668.0                   37826.0  \n",
       "4                             592.0                   37519.0  \n",
       "5                             384.0                   38240.0  \n",
       "6                             295.0                   38455.0  \n",
       "7                             221.0                   38350.0  \n",
       "8                             181.0                   38365.0  \n",
       "9                             157.0                   40546.0  \n",
       "10                            137.0                   44021.0  \n",
       "11                            132.0                   49185.0  \n",
       "12                            135.0                   48000.0  "
      ]
     },
     "execution_count": 16,
     "metadata": {},
     "output_type": "execute_result"
    }
   ],
   "source": [
    "dr"
   ]
  },
  {
   "cell_type": "markdown",
   "id": "7aa3b4b4-ffbe-4edb-8690-cdac14448db7",
   "metadata": {},
   "source": [
    "After cleaning the data the dataFrame is below"
   ]
  },
  {
   "cell_type": "code",
   "execution_count": 17,
   "id": "54c5d1ef-cbb1-4d81-a1e3-10e2ac45a1ec",
   "metadata": {},
   "outputs": [],
   "source": [
    "dr.fillna(0,inplace=True)"
   ]
  },
  {
   "cell_type": "code",
   "execution_count": 18,
   "id": "19b13893-ee2a-4da9-95e7-b865d601810d",
   "metadata": {},
   "outputs": [
    {
     "data": {
      "text/html": [
       "<div>\n",
       "<style scoped>\n",
       "    .dataframe tbody tr th:only-of-type {\n",
       "        vertical-align: middle;\n",
       "    }\n",
       "\n",
       "    .dataframe tbody tr th {\n",
       "        vertical-align: top;\n",
       "    }\n",
       "\n",
       "    .dataframe thead th {\n",
       "        text-align: right;\n",
       "    }\n",
       "</style>\n",
       "<table border=\"1\" class=\"dataframe\">\n",
       "  <thead>\n",
       "    <tr style=\"text-align: right;\">\n",
       "      <th></th>\n",
       "      <th>Year</th>\n",
       "      <th>BEV average price (USD)</th>\n",
       "      <th>Global Sales Volume</th>\n",
       "      <th>Mileage (Km)</th>\n",
       "      <th>Lithium Ion Battery Price (USD)</th>\n",
       "      <th>Average price of new car</th>\n",
       "    </tr>\n",
       "  </thead>\n",
       "  <tbody>\n",
       "    <tr>\n",
       "      <th>0</th>\n",
       "      <td>2010.0</td>\n",
       "      <td>64032.0</td>\n",
       "      <td>50000</td>\n",
       "      <td>127</td>\n",
       "      <td>1191.0</td>\n",
       "      <td>37500.0</td>\n",
       "    </tr>\n",
       "    <tr>\n",
       "      <th>1</th>\n",
       "      <td>2011.0</td>\n",
       "      <td>51736.0</td>\n",
       "      <td>60000</td>\n",
       "      <td>139</td>\n",
       "      <td>924.0</td>\n",
       "      <td>37311.0</td>\n",
       "    </tr>\n",
       "    <tr>\n",
       "      <th>2</th>\n",
       "      <td>2012.0</td>\n",
       "      <td>52084.0</td>\n",
       "      <td>80000</td>\n",
       "      <td>160</td>\n",
       "      <td>726.0</td>\n",
       "      <td>36874.0</td>\n",
       "    </tr>\n",
       "    <tr>\n",
       "      <th>3</th>\n",
       "      <td>2013.0</td>\n",
       "      <td>56028.0</td>\n",
       "      <td>150000</td>\n",
       "      <td>189</td>\n",
       "      <td>668.0</td>\n",
       "      <td>37826.0</td>\n",
       "    </tr>\n",
       "    <tr>\n",
       "      <th>4</th>\n",
       "      <td>2014.0</td>\n",
       "      <td>44776.0</td>\n",
       "      <td>224700</td>\n",
       "      <td>210</td>\n",
       "      <td>592.0</td>\n",
       "      <td>37519.0</td>\n",
       "    </tr>\n",
       "    <tr>\n",
       "      <th>5</th>\n",
       "      <td>2015.0</td>\n",
       "      <td>42340.0</td>\n",
       "      <td>380100</td>\n",
       "      <td>211</td>\n",
       "      <td>384.0</td>\n",
       "      <td>38240.0</td>\n",
       "    </tr>\n",
       "    <tr>\n",
       "      <th>6</th>\n",
       "      <td>2016.0</td>\n",
       "      <td>46284.0</td>\n",
       "      <td>506880</td>\n",
       "      <td>233</td>\n",
       "      <td>295.0</td>\n",
       "      <td>38455.0</td>\n",
       "    </tr>\n",
       "    <tr>\n",
       "      <th>7</th>\n",
       "      <td>2017.0</td>\n",
       "      <td>44776.0</td>\n",
       "      <td>846210</td>\n",
       "      <td>267</td>\n",
       "      <td>221.0</td>\n",
       "      <td>38350.0</td>\n",
       "    </tr>\n",
       "    <tr>\n",
       "      <th>8</th>\n",
       "      <td>2018.0</td>\n",
       "      <td>41412.0</td>\n",
       "      <td>1436580</td>\n",
       "      <td>304</td>\n",
       "      <td>181.0</td>\n",
       "      <td>38365.0</td>\n",
       "    </tr>\n",
       "    <tr>\n",
       "      <th>9</th>\n",
       "      <td>2019.0</td>\n",
       "      <td>42804.0</td>\n",
       "      <td>1708500</td>\n",
       "      <td>336</td>\n",
       "      <td>157.0</td>\n",
       "      <td>40546.0</td>\n",
       "    </tr>\n",
       "    <tr>\n",
       "      <th>10</th>\n",
       "      <td>2020.0</td>\n",
       "      <td>54600.0</td>\n",
       "      <td>2268000</td>\n",
       "      <td>338</td>\n",
       "      <td>137.0</td>\n",
       "      <td>44021.0</td>\n",
       "    </tr>\n",
       "    <tr>\n",
       "      <th>11</th>\n",
       "      <td>2021.0</td>\n",
       "      <td>52900.0</td>\n",
       "      <td>4792500</td>\n",
       "      <td>349</td>\n",
       "      <td>132.0</td>\n",
       "      <td>49185.0</td>\n",
       "    </tr>\n",
       "    <tr>\n",
       "      <th>12</th>\n",
       "      <td>2022.0</td>\n",
       "      <td>67000.0</td>\n",
       "      <td>0</td>\n",
       "      <td>400</td>\n",
       "      <td>135.0</td>\n",
       "      <td>48000.0</td>\n",
       "    </tr>\n",
       "  </tbody>\n",
       "</table>\n",
       "</div>"
      ],
      "text/plain": [
       "      Year  BEV average price (USD) Global Sales Volume Mileage (Km)  \\\n",
       "0   2010.0                  64032.0               50000          127   \n",
       "1   2011.0                  51736.0               60000          139   \n",
       "2   2012.0                  52084.0               80000          160   \n",
       "3   2013.0                  56028.0              150000          189   \n",
       "4   2014.0                  44776.0              224700          210   \n",
       "5   2015.0                  42340.0              380100          211   \n",
       "6   2016.0                  46284.0              506880          233   \n",
       "7   2017.0                  44776.0              846210          267   \n",
       "8   2018.0                  41412.0             1436580          304   \n",
       "9   2019.0                  42804.0             1708500          336   \n",
       "10  2020.0                  54600.0             2268000          338   \n",
       "11  2021.0                  52900.0             4792500          349   \n",
       "12  2022.0                  67000.0                   0          400   \n",
       "\n",
       "    Lithium Ion Battery Price (USD)  Average price of new car  \n",
       "0                            1191.0                   37500.0  \n",
       "1                             924.0                   37311.0  \n",
       "2                             726.0                   36874.0  \n",
       "3                             668.0                   37826.0  \n",
       "4                             592.0                   37519.0  \n",
       "5                             384.0                   38240.0  \n",
       "6                             295.0                   38455.0  \n",
       "7                             221.0                   38350.0  \n",
       "8                             181.0                   38365.0  \n",
       "9                             157.0                   40546.0  \n",
       "10                            137.0                   44021.0  \n",
       "11                            132.0                   49185.0  \n",
       "12                            135.0                   48000.0  "
      ]
     },
     "execution_count": 18,
     "metadata": {},
     "output_type": "execute_result"
    }
   ],
   "source": [
    "dr"
   ]
  },
  {
   "cell_type": "code",
   "execution_count": 19,
   "id": "5b7fbe7b-3ff3-4ae2-a9a0-a138cfafb372",
   "metadata": {},
   "outputs": [
    {
     "data": {
      "text/plain": [
       "Year                               0\n",
       "BEV average price (USD)            0\n",
       "Global Sales Volume                0\n",
       "Mileage (Km)                       0\n",
       "Lithium Ion Battery Price (USD)    0\n",
       "Average price of new car           0\n",
       "dtype: int64"
      ]
     },
     "execution_count": 19,
     "metadata": {},
     "output_type": "execute_result"
    }
   ],
   "source": [
    "dr.isnull().sum()"
   ]
  },
  {
   "cell_type": "code",
   "execution_count": 20,
   "id": "76d958e9-a1ba-4fa3-9635-6bf59d658e15",
   "metadata": {},
   "outputs": [
    {
     "data": {
      "text/plain": [
       "(13, 6)"
      ]
     },
     "execution_count": 20,
     "metadata": {},
     "output_type": "execute_result"
    }
   ],
   "source": [
    "dr.shape"
   ]
  },
  {
   "cell_type": "code",
   "execution_count": 21,
   "id": "1cf1aa23-5952-495d-85a0-e2b820338312",
   "metadata": {},
   "outputs": [
    {
     "name": "stdout",
     "output_type": "stream",
     "text": [
      "<class 'pandas.core.frame.DataFrame'>\n",
      "RangeIndex: 13 entries, 0 to 12\n",
      "Data columns (total 6 columns):\n",
      " #   Column                           Non-Null Count  Dtype  \n",
      "---  ------                           --------------  -----  \n",
      " 0   Year                             13 non-null     float64\n",
      " 1   BEV average price (USD)          13 non-null     float64\n",
      " 2   Global Sales Volume              13 non-null     object \n",
      " 3   Mileage (Km)                     13 non-null     object \n",
      " 4   Lithium Ion Battery Price (USD)  13 non-null     float64\n",
      " 5   Average price of new car         13 non-null     float64\n",
      "dtypes: float64(4), object(2)\n",
      "memory usage: 752.0+ bytes\n"
     ]
    }
   ],
   "source": [
    "dr.info()"
   ]
  },
  {
   "cell_type": "code",
   "execution_count": 22,
   "id": "93ed7939-7816-4202-aa7b-6462adc1a5b5",
   "metadata": {},
   "outputs": [
    {
     "data": {
      "text/html": [
       "<div>\n",
       "<style scoped>\n",
       "    .dataframe tbody tr th:only-of-type {\n",
       "        vertical-align: middle;\n",
       "    }\n",
       "\n",
       "    .dataframe tbody tr th {\n",
       "        vertical-align: top;\n",
       "    }\n",
       "\n",
       "    .dataframe thead th {\n",
       "        text-align: right;\n",
       "    }\n",
       "</style>\n",
       "<table border=\"1\" class=\"dataframe\">\n",
       "  <thead>\n",
       "    <tr style=\"text-align: right;\">\n",
       "      <th></th>\n",
       "      <th>Year</th>\n",
       "      <th>BEV average price (USD)</th>\n",
       "      <th>Lithium Ion Battery Price (USD)</th>\n",
       "      <th>Average price of new car</th>\n",
       "    </tr>\n",
       "  </thead>\n",
       "  <tbody>\n",
       "    <tr>\n",
       "      <th>count</th>\n",
       "      <td>13.00000</td>\n",
       "      <td>13.000000</td>\n",
       "      <td>13.000000</td>\n",
       "      <td>13.000000</td>\n",
       "    </tr>\n",
       "    <tr>\n",
       "      <th>mean</th>\n",
       "      <td>2016.00000</td>\n",
       "      <td>50828.615385</td>\n",
       "      <td>441.769231</td>\n",
       "      <td>40168.615385</td>\n",
       "    </tr>\n",
       "    <tr>\n",
       "      <th>std</th>\n",
       "      <td>3.89444</td>\n",
       "      <td>8179.422774</td>\n",
       "      <td>348.100836</td>\n",
       "      <td>4178.075325</td>\n",
       "    </tr>\n",
       "    <tr>\n",
       "      <th>min</th>\n",
       "      <td>2010.00000</td>\n",
       "      <td>41412.000000</td>\n",
       "      <td>132.000000</td>\n",
       "      <td>36874.000000</td>\n",
       "    </tr>\n",
       "    <tr>\n",
       "      <th>25%</th>\n",
       "      <td>2013.00000</td>\n",
       "      <td>44776.000000</td>\n",
       "      <td>157.000000</td>\n",
       "      <td>37519.000000</td>\n",
       "    </tr>\n",
       "    <tr>\n",
       "      <th>50%</th>\n",
       "      <td>2016.00000</td>\n",
       "      <td>51736.000000</td>\n",
       "      <td>295.000000</td>\n",
       "      <td>38350.000000</td>\n",
       "    </tr>\n",
       "    <tr>\n",
       "      <th>75%</th>\n",
       "      <td>2019.00000</td>\n",
       "      <td>54600.000000</td>\n",
       "      <td>668.000000</td>\n",
       "      <td>40546.000000</td>\n",
       "    </tr>\n",
       "    <tr>\n",
       "      <th>max</th>\n",
       "      <td>2022.00000</td>\n",
       "      <td>67000.000000</td>\n",
       "      <td>1191.000000</td>\n",
       "      <td>49185.000000</td>\n",
       "    </tr>\n",
       "  </tbody>\n",
       "</table>\n",
       "</div>"
      ],
      "text/plain": [
       "             Year  BEV average price (USD)  Lithium Ion Battery Price (USD)  \\\n",
       "count    13.00000                13.000000                        13.000000   \n",
       "mean   2016.00000             50828.615385                       441.769231   \n",
       "std       3.89444              8179.422774                       348.100836   \n",
       "min    2010.00000             41412.000000                       132.000000   \n",
       "25%    2013.00000             44776.000000                       157.000000   \n",
       "50%    2016.00000             51736.000000                       295.000000   \n",
       "75%    2019.00000             54600.000000                       668.000000   \n",
       "max    2022.00000             67000.000000                      1191.000000   \n",
       "\n",
       "       Average price of new car  \n",
       "count                 13.000000  \n",
       "mean               40168.615385  \n",
       "std                 4178.075325  \n",
       "min                36874.000000  \n",
       "25%                37519.000000  \n",
       "50%                38350.000000  \n",
       "75%                40546.000000  \n",
       "max                49185.000000  "
      ]
     },
     "execution_count": 22,
     "metadata": {},
     "output_type": "execute_result"
    }
   ],
   "source": [
    "dr.describe() #it describes the statistics of ba dataset"
   ]
  },
  {
   "cell_type": "code",
   "execution_count": 23,
   "id": "7f847832-63d5-4789-b66b-04a5f8b48a71",
   "metadata": {},
   "outputs": [
    {
     "data": {
      "text/html": [
       "<div>\n",
       "<style scoped>\n",
       "    .dataframe tbody tr th:only-of-type {\n",
       "        vertical-align: middle;\n",
       "    }\n",
       "\n",
       "    .dataframe tbody tr th {\n",
       "        vertical-align: top;\n",
       "    }\n",
       "\n",
       "    .dataframe thead th {\n",
       "        text-align: right;\n",
       "    }\n",
       "</style>\n",
       "<table border=\"1\" class=\"dataframe\">\n",
       "  <thead>\n",
       "    <tr style=\"text-align: right;\">\n",
       "      <th></th>\n",
       "      <th>Year</th>\n",
       "      <th>BEV average price (USD)</th>\n",
       "      <th>Global Sales Volume</th>\n",
       "      <th>Mileage (Km)</th>\n",
       "      <th>Lithium Ion Battery Price (USD)</th>\n",
       "      <th>Average price of new car</th>\n",
       "    </tr>\n",
       "  </thead>\n",
       "  <tbody>\n",
       "    <tr>\n",
       "      <th>0</th>\n",
       "      <td>2010.0</td>\n",
       "      <td>64032.0</td>\n",
       "      <td>50000</td>\n",
       "      <td>127</td>\n",
       "      <td>1191.0</td>\n",
       "      <td>37500.0</td>\n",
       "    </tr>\n",
       "    <tr>\n",
       "      <th>1</th>\n",
       "      <td>2011.0</td>\n",
       "      <td>51736.0</td>\n",
       "      <td>60000</td>\n",
       "      <td>139</td>\n",
       "      <td>924.0</td>\n",
       "      <td>37311.0</td>\n",
       "    </tr>\n",
       "    <tr>\n",
       "      <th>2</th>\n",
       "      <td>2012.0</td>\n",
       "      <td>52084.0</td>\n",
       "      <td>80000</td>\n",
       "      <td>160</td>\n",
       "      <td>726.0</td>\n",
       "      <td>36874.0</td>\n",
       "    </tr>\n",
       "    <tr>\n",
       "      <th>3</th>\n",
       "      <td>2013.0</td>\n",
       "      <td>56028.0</td>\n",
       "      <td>150000</td>\n",
       "      <td>189</td>\n",
       "      <td>668.0</td>\n",
       "      <td>37826.0</td>\n",
       "    </tr>\n",
       "    <tr>\n",
       "      <th>4</th>\n",
       "      <td>2014.0</td>\n",
       "      <td>44776.0</td>\n",
       "      <td>224700</td>\n",
       "      <td>210</td>\n",
       "      <td>592.0</td>\n",
       "      <td>37519.0</td>\n",
       "    </tr>\n",
       "    <tr>\n",
       "      <th>5</th>\n",
       "      <td>2015.0</td>\n",
       "      <td>42340.0</td>\n",
       "      <td>380100</td>\n",
       "      <td>211</td>\n",
       "      <td>384.0</td>\n",
       "      <td>38240.0</td>\n",
       "    </tr>\n",
       "    <tr>\n",
       "      <th>6</th>\n",
       "      <td>2016.0</td>\n",
       "      <td>46284.0</td>\n",
       "      <td>506880</td>\n",
       "      <td>233</td>\n",
       "      <td>295.0</td>\n",
       "      <td>38455.0</td>\n",
       "    </tr>\n",
       "    <tr>\n",
       "      <th>7</th>\n",
       "      <td>2017.0</td>\n",
       "      <td>44776.0</td>\n",
       "      <td>846210</td>\n",
       "      <td>267</td>\n",
       "      <td>221.0</td>\n",
       "      <td>38350.0</td>\n",
       "    </tr>\n",
       "    <tr>\n",
       "      <th>8</th>\n",
       "      <td>2018.0</td>\n",
       "      <td>41412.0</td>\n",
       "      <td>1436580</td>\n",
       "      <td>304</td>\n",
       "      <td>181.0</td>\n",
       "      <td>38365.0</td>\n",
       "    </tr>\n",
       "    <tr>\n",
       "      <th>9</th>\n",
       "      <td>2019.0</td>\n",
       "      <td>42804.0</td>\n",
       "      <td>1708500</td>\n",
       "      <td>336</td>\n",
       "      <td>157.0</td>\n",
       "      <td>40546.0</td>\n",
       "    </tr>\n",
       "    <tr>\n",
       "      <th>10</th>\n",
       "      <td>2020.0</td>\n",
       "      <td>54600.0</td>\n",
       "      <td>2268000</td>\n",
       "      <td>338</td>\n",
       "      <td>137.0</td>\n",
       "      <td>44021.0</td>\n",
       "    </tr>\n",
       "    <tr>\n",
       "      <th>11</th>\n",
       "      <td>2021.0</td>\n",
       "      <td>52900.0</td>\n",
       "      <td>4792500</td>\n",
       "      <td>349</td>\n",
       "      <td>132.0</td>\n",
       "      <td>49185.0</td>\n",
       "    </tr>\n",
       "    <tr>\n",
       "      <th>12</th>\n",
       "      <td>2022.0</td>\n",
       "      <td>67000.0</td>\n",
       "      <td>0</td>\n",
       "      <td>400</td>\n",
       "      <td>135.0</td>\n",
       "      <td>48000.0</td>\n",
       "    </tr>\n",
       "  </tbody>\n",
       "</table>\n",
       "</div>"
      ],
      "text/plain": [
       "      Year  BEV average price (USD) Global Sales Volume Mileage (Km)  \\\n",
       "0   2010.0                  64032.0               50000          127   \n",
       "1   2011.0                  51736.0               60000          139   \n",
       "2   2012.0                  52084.0               80000          160   \n",
       "3   2013.0                  56028.0              150000          189   \n",
       "4   2014.0                  44776.0              224700          210   \n",
       "5   2015.0                  42340.0              380100          211   \n",
       "6   2016.0                  46284.0              506880          233   \n",
       "7   2017.0                  44776.0              846210          267   \n",
       "8   2018.0                  41412.0             1436580          304   \n",
       "9   2019.0                  42804.0             1708500          336   \n",
       "10  2020.0                  54600.0             2268000          338   \n",
       "11  2021.0                  52900.0             4792500          349   \n",
       "12  2022.0                  67000.0                   0          400   \n",
       "\n",
       "    Lithium Ion Battery Price (USD)  Average price of new car  \n",
       "0                            1191.0                   37500.0  \n",
       "1                             924.0                   37311.0  \n",
       "2                             726.0                   36874.0  \n",
       "3                             668.0                   37826.0  \n",
       "4                             592.0                   37519.0  \n",
       "5                             384.0                   38240.0  \n",
       "6                             295.0                   38455.0  \n",
       "7                             221.0                   38350.0  \n",
       "8                             181.0                   38365.0  \n",
       "9                             157.0                   40546.0  \n",
       "10                            137.0                   44021.0  \n",
       "11                            132.0                   49185.0  \n",
       "12                            135.0                   48000.0  "
      ]
     },
     "execution_count": 23,
     "metadata": {},
     "output_type": "execute_result"
    }
   ],
   "source": [
    "dr"
   ]
  },
  {
   "cell_type": "code",
   "execution_count": 24,
   "id": "aa2da443-85ea-48ed-b669-f26b70a23c1e",
   "metadata": {},
   "outputs": [],
   "source": [
    "dr[\"Global Sales Volume\"] = dr[\"Global Sales Volume\"].astype(object ).astype(int)# converting the feature type to obj  > int"
   ]
  },
  {
   "cell_type": "code",
   "execution_count": 25,
   "id": "ffa55c96-bfb4-446f-92e7-1283bf4b8d4d",
   "metadata": {},
   "outputs": [],
   "source": [
    "dr[\"Mileage (Km)\"] = dr[\"Mileage (Km)\"].astype(object ).astype(int) # converting the feature type to obj  > int"
   ]
  },
  {
   "cell_type": "code",
   "execution_count": 26,
   "id": "e9f2a8e5-35a4-4619-98aa-517391d9a563",
   "metadata": {},
   "outputs": [
    {
     "data": {
      "text/html": [
       "<div>\n",
       "<style scoped>\n",
       "    .dataframe tbody tr th:only-of-type {\n",
       "        vertical-align: middle;\n",
       "    }\n",
       "\n",
       "    .dataframe tbody tr th {\n",
       "        vertical-align: top;\n",
       "    }\n",
       "\n",
       "    .dataframe thead th {\n",
       "        text-align: right;\n",
       "    }\n",
       "</style>\n",
       "<table border=\"1\" class=\"dataframe\">\n",
       "  <thead>\n",
       "    <tr style=\"text-align: right;\">\n",
       "      <th></th>\n",
       "      <th>Year</th>\n",
       "      <th>BEV average price (USD)</th>\n",
       "      <th>Global Sales Volume</th>\n",
       "      <th>Mileage (Km)</th>\n",
       "      <th>Lithium Ion Battery Price (USD)</th>\n",
       "      <th>Average price of new car</th>\n",
       "    </tr>\n",
       "  </thead>\n",
       "  <tbody>\n",
       "    <tr>\n",
       "      <th>0</th>\n",
       "      <td>2010.0</td>\n",
       "      <td>64032.0</td>\n",
       "      <td>50000</td>\n",
       "      <td>127</td>\n",
       "      <td>1191.0</td>\n",
       "      <td>37500.0</td>\n",
       "    </tr>\n",
       "    <tr>\n",
       "      <th>1</th>\n",
       "      <td>2011.0</td>\n",
       "      <td>51736.0</td>\n",
       "      <td>60000</td>\n",
       "      <td>139</td>\n",
       "      <td>924.0</td>\n",
       "      <td>37311.0</td>\n",
       "    </tr>\n",
       "    <tr>\n",
       "      <th>2</th>\n",
       "      <td>2012.0</td>\n",
       "      <td>52084.0</td>\n",
       "      <td>80000</td>\n",
       "      <td>160</td>\n",
       "      <td>726.0</td>\n",
       "      <td>36874.0</td>\n",
       "    </tr>\n",
       "    <tr>\n",
       "      <th>3</th>\n",
       "      <td>2013.0</td>\n",
       "      <td>56028.0</td>\n",
       "      <td>150000</td>\n",
       "      <td>189</td>\n",
       "      <td>668.0</td>\n",
       "      <td>37826.0</td>\n",
       "    </tr>\n",
       "    <tr>\n",
       "      <th>4</th>\n",
       "      <td>2014.0</td>\n",
       "      <td>44776.0</td>\n",
       "      <td>224700</td>\n",
       "      <td>210</td>\n",
       "      <td>592.0</td>\n",
       "      <td>37519.0</td>\n",
       "    </tr>\n",
       "    <tr>\n",
       "      <th>5</th>\n",
       "      <td>2015.0</td>\n",
       "      <td>42340.0</td>\n",
       "      <td>380100</td>\n",
       "      <td>211</td>\n",
       "      <td>384.0</td>\n",
       "      <td>38240.0</td>\n",
       "    </tr>\n",
       "    <tr>\n",
       "      <th>6</th>\n",
       "      <td>2016.0</td>\n",
       "      <td>46284.0</td>\n",
       "      <td>506880</td>\n",
       "      <td>233</td>\n",
       "      <td>295.0</td>\n",
       "      <td>38455.0</td>\n",
       "    </tr>\n",
       "    <tr>\n",
       "      <th>7</th>\n",
       "      <td>2017.0</td>\n",
       "      <td>44776.0</td>\n",
       "      <td>846210</td>\n",
       "      <td>267</td>\n",
       "      <td>221.0</td>\n",
       "      <td>38350.0</td>\n",
       "    </tr>\n",
       "    <tr>\n",
       "      <th>8</th>\n",
       "      <td>2018.0</td>\n",
       "      <td>41412.0</td>\n",
       "      <td>1436580</td>\n",
       "      <td>304</td>\n",
       "      <td>181.0</td>\n",
       "      <td>38365.0</td>\n",
       "    </tr>\n",
       "    <tr>\n",
       "      <th>9</th>\n",
       "      <td>2019.0</td>\n",
       "      <td>42804.0</td>\n",
       "      <td>1708500</td>\n",
       "      <td>336</td>\n",
       "      <td>157.0</td>\n",
       "      <td>40546.0</td>\n",
       "    </tr>\n",
       "    <tr>\n",
       "      <th>10</th>\n",
       "      <td>2020.0</td>\n",
       "      <td>54600.0</td>\n",
       "      <td>2268000</td>\n",
       "      <td>338</td>\n",
       "      <td>137.0</td>\n",
       "      <td>44021.0</td>\n",
       "    </tr>\n",
       "    <tr>\n",
       "      <th>11</th>\n",
       "      <td>2021.0</td>\n",
       "      <td>52900.0</td>\n",
       "      <td>4792500</td>\n",
       "      <td>349</td>\n",
       "      <td>132.0</td>\n",
       "      <td>49185.0</td>\n",
       "    </tr>\n",
       "    <tr>\n",
       "      <th>12</th>\n",
       "      <td>2022.0</td>\n",
       "      <td>67000.0</td>\n",
       "      <td>0</td>\n",
       "      <td>400</td>\n",
       "      <td>135.0</td>\n",
       "      <td>48000.0</td>\n",
       "    </tr>\n",
       "  </tbody>\n",
       "</table>\n",
       "</div>"
      ],
      "text/plain": [
       "      Year  BEV average price (USD)  Global Sales Volume  Mileage (Km)  \\\n",
       "0   2010.0                  64032.0                50000           127   \n",
       "1   2011.0                  51736.0                60000           139   \n",
       "2   2012.0                  52084.0                80000           160   \n",
       "3   2013.0                  56028.0               150000           189   \n",
       "4   2014.0                  44776.0               224700           210   \n",
       "5   2015.0                  42340.0               380100           211   \n",
       "6   2016.0                  46284.0               506880           233   \n",
       "7   2017.0                  44776.0               846210           267   \n",
       "8   2018.0                  41412.0              1436580           304   \n",
       "9   2019.0                  42804.0              1708500           336   \n",
       "10  2020.0                  54600.0              2268000           338   \n",
       "11  2021.0                  52900.0              4792500           349   \n",
       "12  2022.0                  67000.0                    0           400   \n",
       "\n",
       "    Lithium Ion Battery Price (USD)  Average price of new car  \n",
       "0                            1191.0                   37500.0  \n",
       "1                             924.0                   37311.0  \n",
       "2                             726.0                   36874.0  \n",
       "3                             668.0                   37826.0  \n",
       "4                             592.0                   37519.0  \n",
       "5                             384.0                   38240.0  \n",
       "6                             295.0                   38455.0  \n",
       "7                             221.0                   38350.0  \n",
       "8                             181.0                   38365.0  \n",
       "9                             157.0                   40546.0  \n",
       "10                            137.0                   44021.0  \n",
       "11                            132.0                   49185.0  \n",
       "12                            135.0                   48000.0  "
      ]
     },
     "execution_count": 26,
     "metadata": {},
     "output_type": "execute_result"
    }
   ],
   "source": [
    "dr"
   ]
  },
  {
   "cell_type": "code",
   "execution_count": 27,
   "id": "7c75ff65-7ec0-4690-bc2a-88770861b841",
   "metadata": {},
   "outputs": [
    {
     "data": {
      "text/plain": [
       "Year                               float64\n",
       "BEV average price (USD)            float64\n",
       "Global Sales Volume                  int32\n",
       "Mileage (Km)                         int32\n",
       "Lithium Ion Battery Price (USD)    float64\n",
       "Average price of new car           float64\n",
       "dtype: object"
      ]
     },
     "execution_count": 27,
     "metadata": {},
     "output_type": "execute_result"
    }
   ],
   "source": [
    "dr.dtypes # returns the types of each feature"
   ]
  },
  {
   "cell_type": "markdown",
   "id": "fdf5980d-42d2-4b9e-83a5-a402b99f49aa",
   "metadata": {},
   "source": [
    "## Visuailizing the data"
   ]
  },
  {
   "cell_type": "code",
   "execution_count": 28,
   "id": "24814007-5526-450a-8369-4051617d72b7",
   "metadata": {},
   "outputs": [
    {
     "data": {
      "text/plain": [
       "<AxesSubplot:>"
      ]
     },
     "execution_count": 28,
     "metadata": {},
     "output_type": "execute_result"
    },
    {
     "data": {
      "image/png": "[encoded data removed]",
      "text/plain": [
       "<Figure size 432x288 with 2 Axes>"
      ]
     },
     "metadata": {
      "needs_background": "light"
     },
     "output_type": "display_data"
    }
   ],
   "source": [
    "# visualizing the missiung values using heatmap\n",
    "sns.heatmap(dr)"
   ]
  },
  {
   "cell_type": "code",
   "execution_count": 29,
   "id": "24bbf191-9bfc-4554-aa78-e32860dc2c5a",
   "metadata": {},
   "outputs": [
    {
     "data": {
      "text/plain": [
       "<AxesSubplot:>"
      ]
     },
     "execution_count": 29,
     "metadata": {},
     "output_type": "execute_result"
    },
    {
     "data": {
      "image/png": "[encoded data removed]",
      "text/plain": [
       "<Figure size 1800x720 with 2 Axes>"
      ]
     },
     "metadata": {
      "needs_background": "light"
     },
     "output_type": "display_data"
    }
   ],
   "source": [
    "msno.matrix(dr) # visualizing the missing values using martix"
   ]
  },
  {
   "cell_type": "code",
   "execution_count": 30,
   "id": "d6e5ecef-3480-4ecc-ad7b-db901beadbf7",
   "metadata": {},
   "outputs": [
    {
     "data": {
      "text/html": [
       "<div>\n",
       "<style scoped>\n",
       "    .dataframe tbody tr th:only-of-type {\n",
       "        vertical-align: middle;\n",
       "    }\n",
       "\n",
       "    .dataframe tbody tr th {\n",
       "        vertical-align: top;\n",
       "    }\n",
       "\n",
       "    .dataframe thead th {\n",
       "        text-align: right;\n",
       "    }\n",
       "</style>\n",
       "<table border=\"1\" class=\"dataframe\">\n",
       "  <thead>\n",
       "    <tr style=\"text-align: right;\">\n",
       "      <th></th>\n",
       "      <th>Year</th>\n",
       "      <th>BEV average price (USD)</th>\n",
       "      <th>Global Sales Volume</th>\n",
       "      <th>Mileage (Km)</th>\n",
       "      <th>Lithium Ion Battery Price (USD)</th>\n",
       "      <th>Average price of new car</th>\n",
       "    </tr>\n",
       "  </thead>\n",
       "  <tbody>\n",
       "    <tr>\n",
       "      <th>Year</th>\n",
       "      <td>1.000000</td>\n",
       "      <td>-0.026872</td>\n",
       "      <td>0.623244</td>\n",
       "      <td>0.991249</td>\n",
       "      <td>-0.932512</td>\n",
       "      <td>0.824152</td>\n",
       "    </tr>\n",
       "    <tr>\n",
       "      <th>BEV average price (USD)</th>\n",
       "      <td>-0.026872</td>\n",
       "      <td>1.000000</td>\n",
       "      <td>-0.143392</td>\n",
       "      <td>0.018102</td>\n",
       "      <td>0.334712</td>\n",
       "      <td>0.416651</td>\n",
       "    </tr>\n",
       "    <tr>\n",
       "      <th>Global Sales Volume</th>\n",
       "      <td>0.623244</td>\n",
       "      <td>-0.143392</td>\n",
       "      <td>1.000000</td>\n",
       "      <td>0.581875</td>\n",
       "      <td>-0.555859</td>\n",
       "      <td>0.663891</td>\n",
       "    </tr>\n",
       "    <tr>\n",
       "      <th>Mileage (Km)</th>\n",
       "      <td>0.991249</td>\n",
       "      <td>0.018102</td>\n",
       "      <td>0.581875</td>\n",
       "      <td>1.000000</td>\n",
       "      <td>-0.901712</td>\n",
       "      <td>0.815540</td>\n",
       "    </tr>\n",
       "    <tr>\n",
       "      <th>Lithium Ion Battery Price (USD)</th>\n",
       "      <td>-0.932512</td>\n",
       "      <td>0.334712</td>\n",
       "      <td>-0.555859</td>\n",
       "      <td>-0.901712</td>\n",
       "      <td>1.000000</td>\n",
       "      <td>-0.600717</td>\n",
       "    </tr>\n",
       "    <tr>\n",
       "      <th>Average price of new car</th>\n",
       "      <td>0.824152</td>\n",
       "      <td>0.416651</td>\n",
       "      <td>0.663891</td>\n",
       "      <td>0.815540</td>\n",
       "      <td>-0.600717</td>\n",
       "      <td>1.000000</td>\n",
       "    </tr>\n",
       "  </tbody>\n",
       "</table>\n",
       "</div>"
      ],
      "text/plain": [
       "                                     Year  BEV average price (USD)  \\\n",
       "Year                             1.000000                -0.026872   \n",
       "BEV average price (USD)         -0.026872                 1.000000   \n",
       "Global Sales Volume              0.623244                -0.143392   \n",
       "Mileage (Km)                     0.991249                 0.018102   \n",
       "Lithium Ion Battery Price (USD) -0.932512                 0.334712   \n",
       "Average price of new car         0.824152                 0.416651   \n",
       "\n",
       "                                 Global Sales Volume  Mileage (Km)  \\\n",
       "Year                                        0.623244      0.991249   \n",
       "BEV average price (USD)                    -0.143392      0.018102   \n",
       "Global Sales Volume                         1.000000      0.581875   \n",
       "Mileage (Km)                                0.581875      1.000000   \n",
       "Lithium Ion Battery Price (USD)            -0.555859     -0.901712   \n",
       "Average price of new car                    0.663891      0.815540   \n",
       "\n",
       "                                 Lithium Ion Battery Price (USD)  \\\n",
       "Year                                                   -0.932512   \n",
       "BEV average price (USD)                                 0.334712   \n",
       "Global Sales Volume                                    -0.555859   \n",
       "Mileage (Km)                                           -0.901712   \n",
       "Lithium Ion Battery Price (USD)                         1.000000   \n",
       "Average price of new car                               -0.600717   \n",
       "\n",
       "                                 Average price of new car  \n",
       "Year                                             0.824152  \n",
       "BEV average price (USD)                          0.416651  \n",
       "Global Sales Volume                              0.663891  \n",
       "Mileage (Km)                                     0.815540  \n",
       "Lithium Ion Battery Price (USD)                 -0.600717  \n",
       "Average price of new car                         1.000000  "
      ]
     },
     "execution_count": 30,
     "metadata": {},
     "output_type": "execute_result"
    }
   ],
   "source": [
    "dr.corr() # this method returns the correlation between each features"
   ]
  },
  {
   "cell_type": "code",
   "execution_count": 31,
   "id": "bf116f18-665c-4c70-a031-dc9accded309",
   "metadata": {},
   "outputs": [
    {
     "data": {
      "text/plain": [
       "<AxesSubplot:>"
      ]
     },
     "execution_count": 31,
     "metadata": {},
     "output_type": "execute_result"
    },
    {
     "data": {
      "image/png": "[encoded data removed]",
      "text/plain": [
       "<Figure size 432x288 with 2 Axes>"
      ]
     },
     "metadata": {
      "needs_background": "light"
     },
     "output_type": "display_data"
    }
   ],
   "source": [
    "# visualizing the correleation using heatmap\n",
    "sns.heatmap(dr.corr())"
   ]
  },
  {
   "cell_type": "code",
   "execution_count": 32,
   "id": "34467e72-4628-4027-bbbd-f1678375a214",
   "metadata": {},
   "outputs": [
    {
     "data": {
      "text/html": [
       "<div>\n",
       "<style scoped>\n",
       "    .dataframe tbody tr th:only-of-type {\n",
       "        vertical-align: middle;\n",
       "    }\n",
       "\n",
       "    .dataframe tbody tr th {\n",
       "        vertical-align: top;\n",
       "    }\n",
       "\n",
       "    .dataframe thead th {\n",
       "        text-align: right;\n",
       "    }\n",
       "</style>\n",
       "<table border=\"1\" class=\"dataframe\">\n",
       "  <thead>\n",
       "    <tr style=\"text-align: right;\">\n",
       "      <th></th>\n",
       "      <th>Year</th>\n",
       "      <th>BEV average price (USD)</th>\n",
       "      <th>Global Sales Volume</th>\n",
       "      <th>Mileage (Km)</th>\n",
       "      <th>Lithium Ion Battery Price (USD)</th>\n",
       "      <th>Average price of new car</th>\n",
       "    </tr>\n",
       "  </thead>\n",
       "  <tbody>\n",
       "    <tr>\n",
       "      <th>0</th>\n",
       "      <td>2010.0</td>\n",
       "      <td>64032.0</td>\n",
       "      <td>50000</td>\n",
       "      <td>127</td>\n",
       "      <td>1191.0</td>\n",
       "      <td>37500.0</td>\n",
       "    </tr>\n",
       "    <tr>\n",
       "      <th>1</th>\n",
       "      <td>2011.0</td>\n",
       "      <td>51736.0</td>\n",
       "      <td>60000</td>\n",
       "      <td>139</td>\n",
       "      <td>924.0</td>\n",
       "      <td>37311.0</td>\n",
       "    </tr>\n",
       "    <tr>\n",
       "      <th>2</th>\n",
       "      <td>2012.0</td>\n",
       "      <td>52084.0</td>\n",
       "      <td>80000</td>\n",
       "      <td>160</td>\n",
       "      <td>726.0</td>\n",
       "      <td>36874.0</td>\n",
       "    </tr>\n",
       "    <tr>\n",
       "      <th>3</th>\n",
       "      <td>2013.0</td>\n",
       "      <td>56028.0</td>\n",
       "      <td>150000</td>\n",
       "      <td>189</td>\n",
       "      <td>668.0</td>\n",
       "      <td>37826.0</td>\n",
       "    </tr>\n",
       "    <tr>\n",
       "      <th>4</th>\n",
       "      <td>2014.0</td>\n",
       "      <td>44776.0</td>\n",
       "      <td>224700</td>\n",
       "      <td>210</td>\n",
       "      <td>592.0</td>\n",
       "      <td>37519.0</td>\n",
       "    </tr>\n",
       "    <tr>\n",
       "      <th>5</th>\n",
       "      <td>2015.0</td>\n",
       "      <td>42340.0</td>\n",
       "      <td>380100</td>\n",
       "      <td>211</td>\n",
       "      <td>384.0</td>\n",
       "      <td>38240.0</td>\n",
       "    </tr>\n",
       "    <tr>\n",
       "      <th>6</th>\n",
       "      <td>2016.0</td>\n",
       "      <td>46284.0</td>\n",
       "      <td>506880</td>\n",
       "      <td>233</td>\n",
       "      <td>295.0</td>\n",
       "      <td>38455.0</td>\n",
       "    </tr>\n",
       "    <tr>\n",
       "      <th>7</th>\n",
       "      <td>2017.0</td>\n",
       "      <td>44776.0</td>\n",
       "      <td>846210</td>\n",
       "      <td>267</td>\n",
       "      <td>221.0</td>\n",
       "      <td>38350.0</td>\n",
       "    </tr>\n",
       "    <tr>\n",
       "      <th>8</th>\n",
       "      <td>2018.0</td>\n",
       "      <td>41412.0</td>\n",
       "      <td>1436580</td>\n",
       "      <td>304</td>\n",
       "      <td>181.0</td>\n",
       "      <td>38365.0</td>\n",
       "    </tr>\n",
       "    <tr>\n",
       "      <th>9</th>\n",
       "      <td>2019.0</td>\n",
       "      <td>42804.0</td>\n",
       "      <td>1708500</td>\n",
       "      <td>336</td>\n",
       "      <td>157.0</td>\n",
       "      <td>40546.0</td>\n",
       "    </tr>\n",
       "    <tr>\n",
       "      <th>10</th>\n",
       "      <td>2020.0</td>\n",
       "      <td>54600.0</td>\n",
       "      <td>2268000</td>\n",
       "      <td>338</td>\n",
       "      <td>137.0</td>\n",
       "      <td>44021.0</td>\n",
       "    </tr>\n",
       "    <tr>\n",
       "      <th>11</th>\n",
       "      <td>2021.0</td>\n",
       "      <td>52900.0</td>\n",
       "      <td>4792500</td>\n",
       "      <td>349</td>\n",
       "      <td>132.0</td>\n",
       "      <td>49185.0</td>\n",
       "    </tr>\n",
       "    <tr>\n",
       "      <th>12</th>\n",
       "      <td>2022.0</td>\n",
       "      <td>67000.0</td>\n",
       "      <td>0</td>\n",
       "      <td>400</td>\n",
       "      <td>135.0</td>\n",
       "      <td>48000.0</td>\n",
       "    </tr>\n",
       "  </tbody>\n",
       "</table>\n",
       "</div>"
      ],
      "text/plain": [
       "      Year  BEV average price (USD)  Global Sales Volume  Mileage (Km)  \\\n",
       "0   2010.0                  64032.0                50000           127   \n",
       "1   2011.0                  51736.0                60000           139   \n",
       "2   2012.0                  52084.0                80000           160   \n",
       "3   2013.0                  56028.0               150000           189   \n",
       "4   2014.0                  44776.0               224700           210   \n",
       "5   2015.0                  42340.0               380100           211   \n",
       "6   2016.0                  46284.0               506880           233   \n",
       "7   2017.0                  44776.0               846210           267   \n",
       "8   2018.0                  41412.0              1436580           304   \n",
       "9   2019.0                  42804.0              1708500           336   \n",
       "10  2020.0                  54600.0              2268000           338   \n",
       "11  2021.0                  52900.0              4792500           349   \n",
       "12  2022.0                  67000.0                    0           400   \n",
       "\n",
       "    Lithium Ion Battery Price (USD)  Average price of new car  \n",
       "0                            1191.0                   37500.0  \n",
       "1                             924.0                   37311.0  \n",
       "2                             726.0                   36874.0  \n",
       "3                             668.0                   37826.0  \n",
       "4                             592.0                   37519.0  \n",
       "5                             384.0                   38240.0  \n",
       "6                             295.0                   38455.0  \n",
       "7                             221.0                   38350.0  \n",
       "8                             181.0                   38365.0  \n",
       "9                             157.0                   40546.0  \n",
       "10                            137.0                   44021.0  \n",
       "11                            132.0                   49185.0  \n",
       "12                            135.0                   48000.0  "
      ]
     },
     "execution_count": 32,
     "metadata": {},
     "output_type": "execute_result"
    }
   ],
   "source": [
    "dr"
   ]
  },
  {
   "cell_type": "code",
   "execution_count": 33,
   "id": "e0743661-0b02-47e9-94a1-5f0cf3b602ff",
   "metadata": {},
   "outputs": [
    {
     "data": {
      "text/plain": [
       "Text(0.5, 1.0, ' Price of each BEV ')"
      ]
     },
     "execution_count": 33,
     "metadata": {},
     "output_type": "execute_result"
    },
    {
     "data": {
      "image/png": "[encoded data removed]",
      "text/plain": [
       "<Figure size 432x288 with 1 Axes>"
      ]
     },
     "metadata": {
      "needs_background": "light"
     },
     "output_type": "display_data"
    }
   ],
   "source": [
    "plt.bar(dr['Year'],dr['BEV average price (USD)'])\n",
    "plt.ylabel('Average car price for each year')\n",
    "plt.xlabel(' production of new BEV in each year') \n",
    "plt.title(' Price of each BEV ')"
   ]
  },
  {
   "cell_type": "code",
   "execution_count": 34,
   "id": "fbc16f5c-49c6-4298-90f3-02a5abe0687b",
   "metadata": {},
   "outputs": [
    {
     "data": {
      "text/plain": [
       "Text(0.5, 1.0, ' Price of each BEV ')"
      ]
     },
     "execution_count": 34,
     "metadata": {},
     "output_type": "execute_result"
    },
    {
     "data": {
      "image/png": "[encoded data removed]",
      "text/plain": [
       "<Figure size 432x288 with 1 Axes>"
      ]
     },
     "metadata": {
      "needs_background": "light"
     },
     "output_type": "display_data"
    }
   ],
   "source": [
    "plt.plot(dr['Year'],dr['BEV average price (USD)'],c='g')\n",
    "plt.ylabel('Average car price for each year')\n",
    "plt.xlabel(' production of new BEV in each year') \n",
    "plt.title(' Price of each BEV ')"
   ]
  },
  {
   "cell_type": "code",
   "execution_count": 35,
   "id": "f9dc7ba1-6c6d-4b1f-957e-a09fc6f57e5d",
   "metadata": {},
   "outputs": [
    {
     "data": {
      "text/plain": [
       "Text(0.5, 1.0, ' GLOBAL SALES EACH BYEAR OF BEV')"
      ]
     },
     "execution_count": 35,
     "metadata": {},
     "output_type": "execute_result"
    },
    {
     "data": {
      "image/png": "[encoded data removed]",
      "text/plain": [
       "<Figure size 432x288 with 1 Axes>"
      ]
     },
     "metadata": {
      "needs_background": "light"
     },
     "output_type": "display_data"
    }
   ],
   "source": [
    "plt.bar(dr['Year'],dr['Global Sales Volume'],color='pink')\n",
    "plt.ylabel('Global sales volume')\n",
    "plt.xlabel('Years') \n",
    "plt.title(' GLOBAL SALES EACH BYEAR OF BEV')\n"
   ]
  },
  {
   "cell_type": "code",
   "execution_count": 36,
   "id": "ddffffb6-f6cb-4fac-a93d-55b86fc2dd65",
   "metadata": {},
   "outputs": [
    {
     "data": {
      "text/plain": [
       "Text(0.5, 1.0, 'Kilometers of BEV in each year')"
      ]
     },
     "execution_count": 36,
     "metadata": {},
     "output_type": "execute_result"
    },
    {
     "data": {
      "image/png": "[encoded data removed]",
      "text/plain": [
       "<Figure size 432x288 with 1 Axes>"
      ]
     },
     "metadata": {
      "needs_background": "light"
     },
     "output_type": "display_data"
    }
   ],
   "source": [
    "plt.bar(dr['Year'],dr['Mileage (Km)'],color='green')\n",
    "plt.xlabel('Mileage ')\n",
    "plt.ylabel('Years')\n",
    "plt.title('Kilometers of BEV in each year')"
   ]
  },
  {
   "cell_type": "code",
   "execution_count": null,
   "id": "ec33c36b-e894-45aa-ac86-50f1bb3ef03d",
   "metadata": {},
   "outputs": [],
   "source": []
  },
  {
   "cell_type": "code",
   "execution_count": 37,
   "id": "50d4beaa-eba5-4936-a272-78c365378ba6",
   "metadata": {},
   "outputs": [
    {
     "data": {
      "text/plain": [
       "Text(0, 0.5, ' Price of  battery')"
      ]
     },
     "execution_count": 37,
     "metadata": {},
     "output_type": "execute_result"
    },
    {
     "data": {
      "image/png": "[encoded data removed]",
      "text/plain": [
       "<Figure size 432x288 with 1 Axes>"
      ]
     },
     "metadata": {
      "needs_background": "light"
     },
     "output_type": "display_data"
    }
   ],
   "source": [
    "plt.bar(dr['Year'],dr['Lithium Ion Battery Price (USD)'],color='violet')\n",
    "plt.title('Lithium ion battery each year')\n",
    "plt.xlabel('Years')\n",
    "plt.ylabel(' Price of  battery')\n",
    "          "
   ]
  },
  {
   "cell_type": "code",
   "execution_count": 38,
   "id": "6f461521-6065-4c37-afb0-3c3bd50e5791",
   "metadata": {},
   "outputs": [
    {
     "data": {
      "text/plain": [
       "Text(0.5, 1.0, 'Average price of car in differrent years')"
      ]
     },
     "execution_count": 38,
     "metadata": {},
     "output_type": "execute_result"
    },
    {
     "data": {
      "image/png": "[encoded data removed]",
      "text/plain": [
       "<Figure size 432x288 with 1 Axes>"
      ]
     },
     "metadata": {
      "needs_background": "light"
     },
     "output_type": "display_data"
    }
   ],
   "source": [
    "plt.bar(dr['Year'],dr['Average price of new car'],color='red')\n",
    "plt.xlabel(\"Years\")\n",
    "plt.ylabel(\"Average price of a car\")\n",
    "plt.title(\"Average price of car in differrent years\")"
   ]
  },
  {
   "cell_type": "code",
   "execution_count": 39,
   "id": "d6d96788-4285-4148-9915-6a9ba26673ef",
   "metadata": {},
   "outputs": [
    {
     "data": {
      "text/plain": [
       "(array([5., 4., 1., 0., 0., 1., 0., 0., 0., 2.]),\n",
       " array([36874. , 38105.1, 39336.2, 40567.3, 41798.4, 43029.5, 44260.6,\n",
       "        45491.7, 46722.8, 47953.9, 49185. ]),\n",
       " <BarContainer object of 10 artists>)"
      ]
     },
     "execution_count": 39,
     "metadata": {},
     "output_type": "execute_result"
    },
    {
     "data": {
      "image/png": "[encoded data removed]",
      "text/plain": [
       "<Figure size 432x288 with 1 Axes>"
      ]
     },
     "metadata": {
      "needs_background": "light"
     },
     "output_type": "display_data"
    }
   ],
   "source": [
    "plt.hist(dr['Average price of new car']) #it returns a distributionh of a range"
   ]
  },
  {
   "cell_type": "markdown",
   "id": "3684b553-4302-4374-9c71-b88222d385d9",
   "metadata": {},
   "source": [
    "## univariante analysis"
   ]
  },
  {
   "cell_type": "code",
   "execution_count": 40,
   "id": "4d09a587-9f57-4934-b580-7d7242042bf6",
   "metadata": {},
   "outputs": [
    {
     "data": {
      "text/html": [
       "<div>\n",
       "<style scoped>\n",
       "    .dataframe tbody tr th:only-of-type {\n",
       "        vertical-align: middle;\n",
       "    }\n",
       "\n",
       "    .dataframe tbody tr th {\n",
       "        vertical-align: top;\n",
       "    }\n",
       "\n",
       "    .dataframe thead th {\n",
       "        text-align: right;\n",
       "    }\n",
       "</style>\n",
       "<table border=\"1\" class=\"dataframe\">\n",
       "  <thead>\n",
       "    <tr style=\"text-align: right;\">\n",
       "      <th></th>\n",
       "      <th>Year</th>\n",
       "      <th>BEV average price (USD)</th>\n",
       "      <th>Global Sales Volume</th>\n",
       "      <th>Mileage (Km)</th>\n",
       "      <th>Lithium Ion Battery Price (USD)</th>\n",
       "      <th>Average price of new car</th>\n",
       "    </tr>\n",
       "  </thead>\n",
       "  <tbody>\n",
       "    <tr>\n",
       "      <th>0</th>\n",
       "      <td>2010.0</td>\n",
       "      <td>64032.0</td>\n",
       "      <td>50000</td>\n",
       "      <td>127</td>\n",
       "      <td>1191.0</td>\n",
       "      <td>37500.0</td>\n",
       "    </tr>\n",
       "    <tr>\n",
       "      <th>1</th>\n",
       "      <td>2011.0</td>\n",
       "      <td>51736.0</td>\n",
       "      <td>60000</td>\n",
       "      <td>139</td>\n",
       "      <td>924.0</td>\n",
       "      <td>37311.0</td>\n",
       "    </tr>\n",
       "    <tr>\n",
       "      <th>2</th>\n",
       "      <td>2012.0</td>\n",
       "      <td>52084.0</td>\n",
       "      <td>80000</td>\n",
       "      <td>160</td>\n",
       "      <td>726.0</td>\n",
       "      <td>36874.0</td>\n",
       "    </tr>\n",
       "    <tr>\n",
       "      <th>3</th>\n",
       "      <td>2013.0</td>\n",
       "      <td>56028.0</td>\n",
       "      <td>150000</td>\n",
       "      <td>189</td>\n",
       "      <td>668.0</td>\n",
       "      <td>37826.0</td>\n",
       "    </tr>\n",
       "    <tr>\n",
       "      <th>4</th>\n",
       "      <td>2014.0</td>\n",
       "      <td>44776.0</td>\n",
       "      <td>224700</td>\n",
       "      <td>210</td>\n",
       "      <td>592.0</td>\n",
       "      <td>37519.0</td>\n",
       "    </tr>\n",
       "    <tr>\n",
       "      <th>5</th>\n",
       "      <td>2015.0</td>\n",
       "      <td>42340.0</td>\n",
       "      <td>380100</td>\n",
       "      <td>211</td>\n",
       "      <td>384.0</td>\n",
       "      <td>38240.0</td>\n",
       "    </tr>\n",
       "    <tr>\n",
       "      <th>6</th>\n",
       "      <td>2016.0</td>\n",
       "      <td>46284.0</td>\n",
       "      <td>506880</td>\n",
       "      <td>233</td>\n",
       "      <td>295.0</td>\n",
       "      <td>38455.0</td>\n",
       "    </tr>\n",
       "    <tr>\n",
       "      <th>7</th>\n",
       "      <td>2017.0</td>\n",
       "      <td>44776.0</td>\n",
       "      <td>846210</td>\n",
       "      <td>267</td>\n",
       "      <td>221.0</td>\n",
       "      <td>38350.0</td>\n",
       "    </tr>\n",
       "    <tr>\n",
       "      <th>8</th>\n",
       "      <td>2018.0</td>\n",
       "      <td>41412.0</td>\n",
       "      <td>1436580</td>\n",
       "      <td>304</td>\n",
       "      <td>181.0</td>\n",
       "      <td>38365.0</td>\n",
       "    </tr>\n",
       "    <tr>\n",
       "      <th>9</th>\n",
       "      <td>2019.0</td>\n",
       "      <td>42804.0</td>\n",
       "      <td>1708500</td>\n",
       "      <td>336</td>\n",
       "      <td>157.0</td>\n",
       "      <td>40546.0</td>\n",
       "    </tr>\n",
       "    <tr>\n",
       "      <th>10</th>\n",
       "      <td>2020.0</td>\n",
       "      <td>54600.0</td>\n",
       "      <td>2268000</td>\n",
       "      <td>338</td>\n",
       "      <td>137.0</td>\n",
       "      <td>44021.0</td>\n",
       "    </tr>\n",
       "    <tr>\n",
       "      <th>11</th>\n",
       "      <td>2021.0</td>\n",
       "      <td>52900.0</td>\n",
       "      <td>4792500</td>\n",
       "      <td>349</td>\n",
       "      <td>132.0</td>\n",
       "      <td>49185.0</td>\n",
       "    </tr>\n",
       "    <tr>\n",
       "      <th>12</th>\n",
       "      <td>2022.0</td>\n",
       "      <td>67000.0</td>\n",
       "      <td>0</td>\n",
       "      <td>400</td>\n",
       "      <td>135.0</td>\n",
       "      <td>48000.0</td>\n",
       "    </tr>\n",
       "  </tbody>\n",
       "</table>\n",
       "</div>"
      ],
      "text/plain": [
       "      Year  BEV average price (USD)  Global Sales Volume  Mileage (Km)  \\\n",
       "0   2010.0                  64032.0                50000           127   \n",
       "1   2011.0                  51736.0                60000           139   \n",
       "2   2012.0                  52084.0                80000           160   \n",
       "3   2013.0                  56028.0               150000           189   \n",
       "4   2014.0                  44776.0               224700           210   \n",
       "5   2015.0                  42340.0               380100           211   \n",
       "6   2016.0                  46284.0               506880           233   \n",
       "7   2017.0                  44776.0               846210           267   \n",
       "8   2018.0                  41412.0              1436580           304   \n",
       "9   2019.0                  42804.0              1708500           336   \n",
       "10  2020.0                  54600.0              2268000           338   \n",
       "11  2021.0                  52900.0              4792500           349   \n",
       "12  2022.0                  67000.0                    0           400   \n",
       "\n",
       "    Lithium Ion Battery Price (USD)  Average price of new car  \n",
       "0                            1191.0                   37500.0  \n",
       "1                             924.0                   37311.0  \n",
       "2                             726.0                   36874.0  \n",
       "3                             668.0                   37826.0  \n",
       "4                             592.0                   37519.0  \n",
       "5                             384.0                   38240.0  \n",
       "6                             295.0                   38455.0  \n",
       "7                             221.0                   38350.0  \n",
       "8                             181.0                   38365.0  \n",
       "9                             157.0                   40546.0  \n",
       "10                            137.0                   44021.0  \n",
       "11                            132.0                   49185.0  \n",
       "12                            135.0                   48000.0  "
      ]
     },
     "execution_count": 40,
     "metadata": {},
     "output_type": "execute_result"
    }
   ],
   "source": [
    "dr"
   ]
  },
  {
   "cell_type": "code",
   "execution_count": 41,
   "id": "f2eda30a-e2fe-412f-9d6d-427e717dcd63",
   "metadata": {},
   "outputs": [
    {
     "data": {
      "text/plain": [
       "<matplotlib.collections.PathCollection at 0x16f1a5c2980>"
      ]
     },
     "execution_count": 41,
     "metadata": {},
     "output_type": "execute_result"
    },
    {
     "data": {
      "image/png": "[encoded data removed]",
      "text/plain": [
       "<Figure size 432x288 with 1 Axes>"
      ]
     },
     "metadata": {
      "needs_background": "light"
     },
     "output_type": "display_data"
    }
   ],
   "source": [
    "plt.scatter(dr.index,dr['Mileage (Km)'])"
   ]
  },
  {
   "cell_type": "markdown",
   "id": "36a5d136-627e-48f9-a771-b1a760a5314d",
   "metadata": {},
   "source": [
    "## Bivariate Analysis"
   ]
  },
  {
   "cell_type": "code",
   "execution_count": 49,
   "id": "9b030ab4-1c16-4246-a277-273f36c444f6",
   "metadata": {},
   "outputs": [
    {
     "data": {
      "text/plain": [
       "<seaborn.axisgrid.JointGrid at 0x1f97a98eb90>"
      ]
     },
     "execution_count": 49,
     "metadata": {},
     "output_type": "execute_result"
    },
    {
     "data": {
      "image/png": "[encoded data removed]",
      "text/plain": [
       "<Figure size 432x432 with 3 Axes>"
      ]
     },
     "metadata": {
      "needs_background": "light"
     },
     "output_type": "display_data"
    }
   ],
   "source": [
    "sns.jointplot(x='BEV average price (USD)',y='Mileage (Km)',data=dr,kind='hex')"
   ]
  },
  {
   "cell_type": "code",
   "execution_count": 42,
   "id": "278e1945-81de-4c3e-ad47-d531cad24536",
   "metadata": {},
   "outputs": [
    {
     "data": {
      "text/plain": [
       "<seaborn.axisgrid.JointGrid at 0x16f1a41c610>"
      ]
     },
     "execution_count": 42,
     "metadata": {},
     "output_type": "execute_result"
    },
    {
     "data": {
      "image/png": "[encoded data removed]",
      "text/plain": [
       "<Figure size 432x432 with 3 Axes>"
      ]
     },
     "metadata": {
      "needs_background": "light"
     },
     "output_type": "display_data"
    }
   ],
   "source": [
    "sns.jointplot(x='Year',y='Average price of new car',data=dr,kind='hex')"
   ]
  },
  {
   "cell_type": "markdown",
   "id": "0a6ed4ab",
   "metadata": {},
   "source": [
    "# Multivariate Analysis"
   ]
  },
  {
   "cell_type": "code",
   "execution_count": 43,
   "id": "13efcdc8",
   "metadata": {},
   "outputs": [
    {
     "data": {
      "text/plain": [
       "<seaborn.axisgrid.PairGrid at 0x16f1aafafb0>"
      ]
     },
     "execution_count": 43,
     "metadata": {},
     "output_type": "execute_result"
    },
    {
     "data": {
      "image/png": "[encoded data removed]",
      "text/plain": [
       "<Figure size 1080x1080 with 42 Axes>"
      ]
     },
     "metadata": {
      "needs_background": "light"
     },
     "output_type": "display_data"
    }
   ],
   "source": [
    "sns.pairplot(dr)"
   ]
  },
  {
   "cell_type": "code",
   "execution_count": 45,
   "id": "8e8cc0a0",
   "metadata": {},
   "outputs": [
    {
     "data": {
      "text/plain": [
       "<seaborn.axisgrid.PairGrid at 0x16f1d8b0f70>"
      ]
     },
     "execution_count": 45,
     "metadata": {},
     "output_type": "execute_result"
    },
    {
     "data": {
      "image/png": "[encoded data removed]",
      "text/plain": [
       "<Figure size 974.125x900 with 30 Axes>"
      ]
     },
     "metadata": {
      "needs_background": "light"
     },
     "output_type": "display_data"
    }
   ],
   "source": [
    "sns.pairplot(dr,hue='Mileage (Km)')"
   ]
  },
  {
   "cell_type": "code",
   "execution_count": null,
   "id": "5d8471f6",
   "metadata": {},
   "outputs": [],
   "source": []
  }
 ],
 "metadata": {
  "kernelspec": {
   "display_name": "Python 3 (ipykernel)",
   "language": "python",
   "name": "python3"
  },
  "language_info": {
   "codemirror_mode": {
    "name": "ipython",
    "version": 3
   },
   "file_extension": ".py",
   "mimetype": "text/x-python",
   "name": "python",
   "nbconvert_exporter": "python",
   "pygments_lexer": "ipython3",
   "version": "3.10.4"
  }
 },
 "nbformat": 4,
 "nbformat_minor": 5
}
