{
 "cells": [
  {
   "cell_type": "markdown",
   "id": "a2a1ac99",
   "metadata": {},
   "source": [
    "# EDA on Data science jobs in India"
   ]
  },
  {
   "cell_type": "markdown",
   "id": "7d41af34",
   "metadata": {},
   "source": [
    "<b><h1>How to perform EDA?</b></h1>"
   ]
  },
  {
   "cell_type": "markdown",
   "id": "5d4edd7b",
   "metadata": {},
   "source": [
    "<p>1.Import libraries and load dataset</p>\n",
    "<p>2.Check for missing values</p>\n",
    "<p>3.Visualizing the missing values</p>\n",
    "<p>4.Replacing the missing values</p>\n",
    "<p>5/Asking Analytical Questions and Visualizations</p>\n",
    "<p>6.Positive Correlation</p>\n",
    "<p>7.Negative Correlation</p>"
   ]
  },
  {
   "cell_type": "code",
   "execution_count": 1,
   "id": "ffc94a09",
   "metadata": {},
   "outputs": [],
   "source": [
    "# importing all required libaries\n",
    "\n",
    "import numpy as np\n",
    "import pandas as pd\n",
    "import matplotlib.pyplot as plt\n",
    "import seaborn as sns\n",
    "import warnings\n",
    "warnings.filterwarnings('ignore')\n",
    "%matplotlib inline"
   ]
  },
  {
   "cell_type": "code",
   "execution_count": 4,
   "id": "3b7a0f65",
   "metadata": {},
   "outputs": [],
   "source": [
    " # Loading the dataset\n",
    "\n",
    " df=pd.read_csv('Data_Science_Jobs_in_India.csv')"
   ]
  },
  {
   "cell_type": "code",
   "execution_count": 5,
   "id": "17c03fb8",
   "metadata": {},
   "outputs": [
    {
     "data": {
      "text/html": [
       "<div>\n",
       "<style scoped>\n",
       "    .dataframe tbody tr th:only-of-type {\n",
       "        vertical-align: middle;\n",
       "    }\n",
       "\n",
       "    .dataframe tbody tr th {\n",
       "        vertical-align: top;\n",
       "    }\n",
       "\n",
       "    .dataframe thead th {\n",
       "        text-align: right;\n",
       "    }\n",
       "</style>\n",
       "<table border=\"1\" class=\"dataframe\">\n",
       "  <thead>\n",
       "    <tr style=\"text-align: right;\">\n",
       "      <th></th>\n",
       "      <th>Unnamed: 0</th>\n",
       "      <th>company_name</th>\n",
       "      <th>job_title</th>\n",
       "      <th>min_experience</th>\n",
       "      <th>avg_salary</th>\n",
       "      <th>min_salary</th>\n",
       "      <th>max_salary</th>\n",
       "      <th>num_of_salaries</th>\n",
       "    </tr>\n",
       "  </thead>\n",
       "  <tbody>\n",
       "    <tr>\n",
       "      <th>0</th>\n",
       "      <td>0</td>\n",
       "      <td>TCS</td>\n",
       "      <td>Data Scientist</td>\n",
       "      <td>2</td>\n",
       "      <td>7.8L</td>\n",
       "      <td>4.5L</td>\n",
       "      <td>16.0L</td>\n",
       "      <td>841</td>\n",
       "    </tr>\n",
       "    <tr>\n",
       "      <th>1</th>\n",
       "      <td>1</td>\n",
       "      <td>Accenture</td>\n",
       "      <td>Data Scientist</td>\n",
       "      <td>2</td>\n",
       "      <td>12.8L</td>\n",
       "      <td>5.8L</td>\n",
       "      <td>23.0L</td>\n",
       "      <td>501</td>\n",
       "    </tr>\n",
       "    <tr>\n",
       "      <th>2</th>\n",
       "      <td>2</td>\n",
       "      <td>IBM</td>\n",
       "      <td>Data Scientist</td>\n",
       "      <td>2</td>\n",
       "      <td>13.4L</td>\n",
       "      <td>5.3L</td>\n",
       "      <td>25.0L</td>\n",
       "      <td>394</td>\n",
       "    </tr>\n",
       "    <tr>\n",
       "      <th>3</th>\n",
       "      <td>3</td>\n",
       "      <td>Cognizant</td>\n",
       "      <td>Data Scientist</td>\n",
       "      <td>2</td>\n",
       "      <td>9.8L</td>\n",
       "      <td>5.0L</td>\n",
       "      <td>18.0L</td>\n",
       "      <td>318</td>\n",
       "    </tr>\n",
       "    <tr>\n",
       "      <th>4</th>\n",
       "      <td>4</td>\n",
       "      <td>Capgemini</td>\n",
       "      <td>Data Scientist</td>\n",
       "      <td>2</td>\n",
       "      <td>8.6L</td>\n",
       "      <td>4.8L</td>\n",
       "      <td>14.6L</td>\n",
       "      <td>300</td>\n",
       "    </tr>\n",
       "  </tbody>\n",
       "</table>\n",
       "</div>"
      ],
      "text/plain": [
       "   Unnamed: 0 company_name       job_title  min_experience avg_salary  \\\n",
       "0           0          TCS  Data Scientist               2       7.8L   \n",
       "1           1    Accenture  Data Scientist               2      12.8L   \n",
       "2           2          IBM  Data Scientist               2      13.4L   \n",
       "3           3    Cognizant  Data Scientist               2       9.8L   \n",
       "4           4    Capgemini  Data Scientist               2       8.6L   \n",
       "\n",
       "  min_salary max_salary  num_of_salaries  \n",
       "0       4.5L      16.0L              841  \n",
       "1       5.8L      23.0L              501  \n",
       "2       5.3L      25.0L              394  \n",
       "3       5.0L      18.0L              318  \n",
       "4       4.8L      14.6L              300  "
      ]
     },
     "execution_count": 5,
     "metadata": {},
     "output_type": "execute_result"
    }
   ],
   "source": [
    "df.head() # getting the data of s records from dataset"
   ]
  },
  {
   "cell_type": "code",
   "execution_count": 6,
   "id": "e341e9c1",
   "metadata": {},
   "outputs": [],
   "source": [
    "df.drop('Unnamed: 0',axis=1,inplace=True) # deleting the unecessary the data from the dataset  "
   ]
  },
  {
   "cell_type": "code",
   "execution_count": 7,
   "id": "bfd82e9a",
   "metadata": {},
   "outputs": [
    {
     "data": {
      "text/plain": [
       "(1602, 7)"
      ]
     },
     "execution_count": 7,
     "metadata": {},
     "output_type": "execute_result"
    }
   ],
   "source": [
    "df.shape # getting the total no of rows and columns"
   ]
  },
  {
   "cell_type": "code",
   "execution_count": 8,
   "id": "3226595b",
   "metadata": {},
   "outputs": [
    {
     "data": {
      "text/plain": [
       "company_name       0\n",
       "job_title          0\n",
       "min_experience     0\n",
       "avg_salary         0\n",
       "min_salary         0\n",
       "max_salary         0\n",
       "num_of_salaries    0\n",
       "dtype: int64"
      ]
     },
     "execution_count": 8,
     "metadata": {},
     "output_type": "execute_result"
    }
   ],
   "source": [
    "# checking for missing values\n",
    "df.isnull().sum() # getting the total sum of null values of each column"
   ]
  },
  {
   "cell_type": "code",
   "execution_count": 9,
   "id": "a13bcb61",
   "metadata": {},
   "outputs": [
    {
     "data": {
      "text/plain": [
       "0       False\n",
       "1       False\n",
       "2       False\n",
       "3       False\n",
       "4       False\n",
       "        ...  \n",
       "1597    False\n",
       "1598    False\n",
       "1599    False\n",
       "1600    False\n",
       "1601    False\n",
       "Length: 1602, dtype: bool"
      ]
     },
     "execution_count": 9,
     "metadata": {},
     "output_type": "execute_result"
    }
   ],
   "source": [
    "# checking for duplicates\n",
    "df.duplicated()"
   ]
  },
  {
   "cell_type": "markdown",
   "id": "9a052dbb",
   "metadata": {},
   "source": [
    "# Knowing the statistical information of data set"
   ]
  },
  {
   "cell_type": "code",
   "execution_count": 10,
   "id": "2fd2eded",
   "metadata": {},
   "outputs": [
    {
     "data": {
      "text/html": [
       "<div>\n",
       "<style scoped>\n",
       "    .dataframe tbody tr th:only-of-type {\n",
       "        vertical-align: middle;\n",
       "    }\n",
       "\n",
       "    .dataframe tbody tr th {\n",
       "        vertical-align: top;\n",
       "    }\n",
       "\n",
       "    .dataframe thead th {\n",
       "        text-align: right;\n",
       "    }\n",
       "</style>\n",
       "<table border=\"1\" class=\"dataframe\">\n",
       "  <thead>\n",
       "    <tr style=\"text-align: right;\">\n",
       "      <th></th>\n",
       "      <th>company_name</th>\n",
       "      <th>job_title</th>\n",
       "      <th>min_experience</th>\n",
       "      <th>avg_salary</th>\n",
       "      <th>min_salary</th>\n",
       "      <th>max_salary</th>\n",
       "      <th>num_of_salaries</th>\n",
       "    </tr>\n",
       "  </thead>\n",
       "  <tbody>\n",
       "    <tr>\n",
       "      <th>count</th>\n",
       "      <td>1602</td>\n",
       "      <td>1602</td>\n",
       "      <td>1602.000000</td>\n",
       "      <td>1602</td>\n",
       "      <td>1602</td>\n",
       "      <td>1602</td>\n",
       "      <td>1602.000000</td>\n",
       "    </tr>\n",
       "    <tr>\n",
       "      <th>unique</th>\n",
       "      <td>642</td>\n",
       "      <td>10</td>\n",
       "      <td>NaN</td>\n",
       "      <td>305</td>\n",
       "      <td>197</td>\n",
       "      <td>304</td>\n",
       "      <td>NaN</td>\n",
       "    </tr>\n",
       "    <tr>\n",
       "      <th>top</th>\n",
       "      <td>TCS</td>\n",
       "      <td>Data Scientist</td>\n",
       "      <td>NaN</td>\n",
       "      <td>9.7L</td>\n",
       "      <td>5.0L</td>\n",
       "      <td>20.0L</td>\n",
       "      <td>NaN</td>\n",
       "    </tr>\n",
       "    <tr>\n",
       "      <th>freq</th>\n",
       "      <td>10</td>\n",
       "      <td>188</td>\n",
       "      <td>NaN</td>\n",
       "      <td>16</td>\n",
       "      <td>62</td>\n",
       "      <td>63</td>\n",
       "      <td>NaN</td>\n",
       "    </tr>\n",
       "    <tr>\n",
       "      <th>mean</th>\n",
       "      <td>NaN</td>\n",
       "      <td>NaN</td>\n",
       "      <td>2.799001</td>\n",
       "      <td>NaN</td>\n",
       "      <td>NaN</td>\n",
       "      <td>NaN</td>\n",
       "      <td>58.055556</td>\n",
       "    </tr>\n",
       "    <tr>\n",
       "      <th>std</th>\n",
       "      <td>NaN</td>\n",
       "      <td>NaN</td>\n",
       "      <td>2.353686</td>\n",
       "      <td>NaN</td>\n",
       "      <td>NaN</td>\n",
       "      <td>NaN</td>\n",
       "      <td>169.042138</td>\n",
       "    </tr>\n",
       "    <tr>\n",
       "      <th>min</th>\n",
       "      <td>NaN</td>\n",
       "      <td>NaN</td>\n",
       "      <td>0.000000</td>\n",
       "      <td>NaN</td>\n",
       "      <td>NaN</td>\n",
       "      <td>NaN</td>\n",
       "      <td>3.000000</td>\n",
       "    </tr>\n",
       "    <tr>\n",
       "      <th>25%</th>\n",
       "      <td>NaN</td>\n",
       "      <td>NaN</td>\n",
       "      <td>1.000000</td>\n",
       "      <td>NaN</td>\n",
       "      <td>NaN</td>\n",
       "      <td>NaN</td>\n",
       "      <td>9.250000</td>\n",
       "    </tr>\n",
       "    <tr>\n",
       "      <th>50%</th>\n",
       "      <td>NaN</td>\n",
       "      <td>NaN</td>\n",
       "      <td>2.000000</td>\n",
       "      <td>NaN</td>\n",
       "      <td>NaN</td>\n",
       "      <td>NaN</td>\n",
       "      <td>22.000000</td>\n",
       "    </tr>\n",
       "    <tr>\n",
       "      <th>75%</th>\n",
       "      <td>NaN</td>\n",
       "      <td>NaN</td>\n",
       "      <td>4.000000</td>\n",
       "      <td>NaN</td>\n",
       "      <td>NaN</td>\n",
       "      <td>NaN</td>\n",
       "      <td>47.000000</td>\n",
       "    </tr>\n",
       "    <tr>\n",
       "      <th>max</th>\n",
       "      <td>NaN</td>\n",
       "      <td>NaN</td>\n",
       "      <td>21.000000</td>\n",
       "      <td>NaN</td>\n",
       "      <td>NaN</td>\n",
       "      <td>NaN</td>\n",
       "      <td>4200.000000</td>\n",
       "    </tr>\n",
       "  </tbody>\n",
       "</table>\n",
       "</div>"
      ],
      "text/plain": [
       "       company_name       job_title  min_experience avg_salary min_salary  \\\n",
       "count          1602            1602     1602.000000       1602       1602   \n",
       "unique          642              10             NaN        305        197   \n",
       "top             TCS  Data Scientist             NaN       9.7L       5.0L   \n",
       "freq             10             188             NaN         16         62   \n",
       "mean            NaN             NaN        2.799001        NaN        NaN   \n",
       "std             NaN             NaN        2.353686        NaN        NaN   \n",
       "min             NaN             NaN        0.000000        NaN        NaN   \n",
       "25%             NaN             NaN        1.000000        NaN        NaN   \n",
       "50%             NaN             NaN        2.000000        NaN        NaN   \n",
       "75%             NaN             NaN        4.000000        NaN        NaN   \n",
       "max             NaN             NaN       21.000000        NaN        NaN   \n",
       "\n",
       "       max_salary  num_of_salaries  \n",
       "count        1602      1602.000000  \n",
       "unique        304              NaN  \n",
       "top         20.0L              NaN  \n",
       "freq           63              NaN  \n",
       "mean          NaN        58.055556  \n",
       "std           NaN       169.042138  \n",
       "min           NaN         3.000000  \n",
       "25%           NaN         9.250000  \n",
       "50%           NaN        22.000000  \n",
       "75%           NaN        47.000000  \n",
       "max           NaN      4200.000000  "
      ]
     },
     "execution_count": 10,
     "metadata": {},
     "output_type": "execute_result"
    }
   ],
   "source": [
    "df.describe(include='all') # getting sll the satistical information abbout data set"
   ]
  },
  {
   "cell_type": "code",
   "execution_count": 11,
   "id": "6721098b",
   "metadata": {},
   "outputs": [
    {
     "data": {
      "text/plain": [
       "count    1602.000000\n",
       "mean        2.799001\n",
       "std         2.353686\n",
       "min         0.000000\n",
       "25%         1.000000\n",
       "50%         2.000000\n",
       "75%         4.000000\n",
       "max        21.000000\n",
       "Name: min_experience, dtype: float64"
      ]
     },
     "execution_count": 11,
     "metadata": {},
     "output_type": "execute_result"
    }
   ],
   "source": [
    "df['min_experience'].describe(include='all') # getting the statistical information for specific coloumn"
   ]
  },
  {
   "cell_type": "code",
   "execution_count": 12,
   "id": "140f2b9e",
   "metadata": {
    "scrolled": true
   },
   "outputs": [
    {
     "data": {
      "text/plain": [
       "count     1602\n",
       "unique     305\n",
       "top       9.7L\n",
       "freq        16\n",
       "Name: avg_salary, dtype: object"
      ]
     },
     "execution_count": 12,
     "metadata": {},
     "output_type": "execute_result"
    }
   ],
   "source": [
    "df['avg_salary'].describe(include='all')  #getting the statistical information for specific coloumn"
   ]
  },
  {
   "cell_type": "code",
   "execution_count": 13,
   "id": "6214bf68",
   "metadata": {},
   "outputs": [
    {
     "data": {
      "text/plain": [
       "count      1602\n",
       "unique      304\n",
       "top       20.0L\n",
       "freq         63\n",
       "Name: max_salary, dtype: object"
      ]
     },
     "execution_count": 13,
     "metadata": {},
     "output_type": "execute_result"
    }
   ],
   "source": [
    "df['max_salary'].describe(include='all')"
   ]
  },
  {
   "cell_type": "code",
   "execution_count": 14,
   "id": "de494e6f",
   "metadata": {},
   "outputs": [
    {
     "data": {
      "text/plain": [
       "count    1602.000000\n",
       "mean       58.055556\n",
       "std       169.042138\n",
       "min         3.000000\n",
       "25%         9.250000\n",
       "50%        22.000000\n",
       "75%        47.000000\n",
       "max      4200.000000\n",
       "Name: num_of_salaries, dtype: float64"
      ]
     },
     "execution_count": 14,
     "metadata": {},
     "output_type": "execute_result"
    }
   ],
   "source": [
    "df['num_of_salaries'].describe(include='all') # getting the statistical information for specific coloumn"
   ]
  },
  {
   "cell_type": "code",
   "execution_count": 15,
   "id": "0eff6d95",
   "metadata": {},
   "outputs": [
    {
     "data": {
      "text/plain": [
       "count               1602\n",
       "unique                10\n",
       "top       Data Scientist\n",
       "freq                 188\n",
       "Name: job_title, dtype: object"
      ]
     },
     "execution_count": 15,
     "metadata": {},
     "output_type": "execute_result"
    }
   ],
   "source": [
    "df['job_title'].describe(include='all') # getting the statistical information for specific coloumn"
   ]
  },
  {
   "cell_type": "code",
   "execution_count": 16,
   "id": "73061c19",
   "metadata": {},
   "outputs": [
    {
     "data": {
      "text/plain": [
       "count     1602\n",
       "unique     642\n",
       "top        TCS\n",
       "freq        10\n",
       "Name: company_name, dtype: object"
      ]
     },
     "execution_count": 16,
     "metadata": {},
     "output_type": "execute_result"
    }
   ],
   "source": [
    "df['company_name'].describe(include='all') # getting the statistical information for specific coloumn"
   ]
  },
  {
   "cell_type": "code",
   "execution_count": 17,
   "id": "6970dd45",
   "metadata": {},
   "outputs": [
    {
     "name": "stdout",
     "output_type": "stream",
     "text": [
      "<class 'pandas.core.frame.DataFrame'>\n",
      "RangeIndex: 1602 entries, 0 to 1601\n",
      "Data columns (total 7 columns):\n",
      " #   Column           Non-Null Count  Dtype \n",
      "---  ------           --------------  ----- \n",
      " 0   company_name     1602 non-null   object\n",
      " 1   job_title        1602 non-null   object\n",
      " 2   min_experience   1602 non-null   int64 \n",
      " 3   avg_salary       1602 non-null   object\n",
      " 4   min_salary       1602 non-null   object\n",
      " 5   max_salary       1602 non-null   object\n",
      " 6   num_of_salaries  1602 non-null   int64 \n",
      "dtypes: int64(2), object(5)\n",
      "memory usage: 87.7+ KB\n"
     ]
    }
   ],
   "source": [
    "df.info() # knowing the information about dataset"
   ]
  },
  {
   "cell_type": "code",
   "execution_count": 46,
   "id": "ea485d2b",
   "metadata": {},
   "outputs": [
    {
     "data": {
      "text/plain": [
       "<AxesSubplot:>"
      ]
     },
     "execution_count": 46,
     "metadata": {},
     "output_type": "execute_result"
    },
    {
     "data": {
      "image/png": "[encoded data removed]",
      "text/plain": [
       "<Figure size 1080x432 with 2 Axes>"
      ]
     },
     "metadata": {
      "needs_background": "light"
     },
     "output_type": "display_data"
    }
   ],
   "source": [
    "plt.figure(figsize = (15,6))\n",
    "sns.heatmap(df.isnull()) # visualizing the null values using the heatmzp"
   ]
  },
  {
   "cell_type": "code",
   "execution_count": 19,
   "id": "0b916819",
   "metadata": {},
   "outputs": [
    {
     "data": {
      "text/html": [
       "<div>\n",
       "<style scoped>\n",
       "    .dataframe tbody tr th:only-of-type {\n",
       "        vertical-align: middle;\n",
       "    }\n",
       "\n",
       "    .dataframe tbody tr th {\n",
       "        vertical-align: top;\n",
       "    }\n",
       "\n",
       "    .dataframe thead th {\n",
       "        text-align: right;\n",
       "    }\n",
       "</style>\n",
       "<table border=\"1\" class=\"dataframe\">\n",
       "  <thead>\n",
       "    <tr style=\"text-align: right;\">\n",
       "      <th></th>\n",
       "      <th>company_name</th>\n",
       "      <th>job_title</th>\n",
       "      <th>min_experience</th>\n",
       "      <th>avg_salary</th>\n",
       "      <th>min_salary</th>\n",
       "      <th>max_salary</th>\n",
       "      <th>num_of_salaries</th>\n",
       "    </tr>\n",
       "  </thead>\n",
       "  <tbody>\n",
       "    <tr>\n",
       "      <th>0</th>\n",
       "      <td>TCS</td>\n",
       "      <td>Data Scientist</td>\n",
       "      <td>2</td>\n",
       "      <td>7.8L</td>\n",
       "      <td>4.5L</td>\n",
       "      <td>16.0L</td>\n",
       "      <td>841</td>\n",
       "    </tr>\n",
       "    <tr>\n",
       "      <th>1</th>\n",
       "      <td>Accenture</td>\n",
       "      <td>Data Scientist</td>\n",
       "      <td>2</td>\n",
       "      <td>12.8L</td>\n",
       "      <td>5.8L</td>\n",
       "      <td>23.0L</td>\n",
       "      <td>501</td>\n",
       "    </tr>\n",
       "    <tr>\n",
       "      <th>2</th>\n",
       "      <td>IBM</td>\n",
       "      <td>Data Scientist</td>\n",
       "      <td>2</td>\n",
       "      <td>13.4L</td>\n",
       "      <td>5.3L</td>\n",
       "      <td>25.0L</td>\n",
       "      <td>394</td>\n",
       "    </tr>\n",
       "    <tr>\n",
       "      <th>3</th>\n",
       "      <td>Cognizant</td>\n",
       "      <td>Data Scientist</td>\n",
       "      <td>2</td>\n",
       "      <td>9.8L</td>\n",
       "      <td>5.0L</td>\n",
       "      <td>18.0L</td>\n",
       "      <td>318</td>\n",
       "    </tr>\n",
       "    <tr>\n",
       "      <th>4</th>\n",
       "      <td>Capgemini</td>\n",
       "      <td>Data Scientist</td>\n",
       "      <td>2</td>\n",
       "      <td>8.6L</td>\n",
       "      <td>4.8L</td>\n",
       "      <td>14.6L</td>\n",
       "      <td>300</td>\n",
       "    </tr>\n",
       "    <tr>\n",
       "      <th>...</th>\n",
       "      <td>...</td>\n",
       "      <td>...</td>\n",
       "      <td>...</td>\n",
       "      <td>...</td>\n",
       "      <td>...</td>\n",
       "      <td>...</td>\n",
       "      <td>...</td>\n",
       "    </tr>\n",
       "    <tr>\n",
       "      <th>1597</th>\n",
       "      <td>Collabera Technologies</td>\n",
       "      <td>Data Architect</td>\n",
       "      <td>8</td>\n",
       "      <td>17.0L</td>\n",
       "      <td>12.0L</td>\n",
       "      <td>23.1L</td>\n",
       "      <td>4</td>\n",
       "    </tr>\n",
       "    <tr>\n",
       "      <th>1598</th>\n",
       "      <td>Coforge</td>\n",
       "      <td>Data Architect</td>\n",
       "      <td>7</td>\n",
       "      <td>27.1L</td>\n",
       "      <td>18.5L</td>\n",
       "      <td>39.0L</td>\n",
       "      <td>4</td>\n",
       "    </tr>\n",
       "    <tr>\n",
       "      <th>1599</th>\n",
       "      <td>Hitachi</td>\n",
       "      <td>Data Architect</td>\n",
       "      <td>21</td>\n",
       "      <td>40.0L</td>\n",
       "      <td>25.0L</td>\n",
       "      <td>50.0L</td>\n",
       "      <td>3</td>\n",
       "    </tr>\n",
       "    <tr>\n",
       "      <th>1600</th>\n",
       "      <td>GE Power</td>\n",
       "      <td>Data Architect</td>\n",
       "      <td>7</td>\n",
       "      <td>16.7L</td>\n",
       "      <td>14.9L</td>\n",
       "      <td>19.0L</td>\n",
       "      <td>3</td>\n",
       "    </tr>\n",
       "    <tr>\n",
       "      <th>1601</th>\n",
       "      <td>T-Systems</td>\n",
       "      <td>Data Architect</td>\n",
       "      <td>16</td>\n",
       "      <td>33.3L</td>\n",
       "      <td>33.0L</td>\n",
       "      <td>34.0L</td>\n",
       "      <td>3</td>\n",
       "    </tr>\n",
       "  </tbody>\n",
       "</table>\n",
       "<p>1602 rows × 7 columns</p>\n",
       "</div>"
      ],
      "text/plain": [
       "                company_name       job_title  min_experience avg_salary  \\\n",
       "0                        TCS  Data Scientist               2       7.8L   \n",
       "1                  Accenture  Data Scientist               2      12.8L   \n",
       "2                        IBM  Data Scientist               2      13.4L   \n",
       "3                  Cognizant  Data Scientist               2       9.8L   \n",
       "4                  Capgemini  Data Scientist               2       8.6L   \n",
       "...                      ...             ...             ...        ...   \n",
       "1597  Collabera Technologies  Data Architect               8      17.0L   \n",
       "1598                 Coforge  Data Architect               7      27.1L   \n",
       "1599                 Hitachi  Data Architect              21      40.0L   \n",
       "1600                GE Power  Data Architect               7      16.7L   \n",
       "1601               T-Systems  Data Architect              16      33.3L   \n",
       "\n",
       "     min_salary max_salary  num_of_salaries  \n",
       "0          4.5L      16.0L              841  \n",
       "1          5.8L      23.0L              501  \n",
       "2          5.3L      25.0L              394  \n",
       "3          5.0L      18.0L              318  \n",
       "4          4.8L      14.6L              300  \n",
       "...         ...        ...              ...  \n",
       "1597      12.0L      23.1L                4  \n",
       "1598      18.5L      39.0L                4  \n",
       "1599      25.0L      50.0L                3  \n",
       "1600      14.9L      19.0L                3  \n",
       "1601      33.0L      34.0L                3  \n",
       "\n",
       "[1602 rows x 7 columns]"
      ]
     },
     "execution_count": 19,
     "metadata": {},
     "output_type": "execute_result"
    }
   ],
   "source": [
    "df"
   ]
  },
  {
   "cell_type": "markdown",
   "id": "b85892f9",
   "metadata": {},
   "source": [
    "# Data analysis\n"
   ]
  },
  {
   "cell_type": "code",
   "execution_count": 28,
   "id": "bb9fa45c",
   "metadata": {},
   "outputs": [
    {
     "data": {
      "text/plain": [
       "0       False\n",
       "1       False\n",
       "2       False\n",
       "3       False\n",
       "4       False\n",
       "        ...  \n",
       "1597     True\n",
       "1598     True\n",
       "1599    False\n",
       "1600     True\n",
       "1601     True\n",
       "Name: company_name, Length: 1602, dtype: bool"
      ]
     },
     "execution_count": 28,
     "metadata": {},
     "output_type": "execute_result"
    }
   ],
   "source": [
    "company_name=df['company_name']\n",
    "company_name.duplicated()"
   ]
  },
  {
   "cell_type": "code",
   "execution_count": 30,
   "id": "37f55731",
   "metadata": {},
   "outputs": [
    {
     "data": {
      "text/plain": [
       "TCS                          10\n",
       "Deloitte                     10\n",
       "UST                          10\n",
       "DXC Technology               10\n",
       "Mindtree                     10\n",
       "                             ..\n",
       "The Data Team                 1\n",
       "Bitwise Solutions             1\n",
       "Oil Field Instrumentation     1\n",
       "Adidas                        1\n",
       "Hitachi                       1\n",
       "Name: company_name, Length: 642, dtype: int64"
      ]
     },
     "execution_count": 30,
     "metadata": {},
     "output_type": "execute_result"
    }
   ],
   "source": [
    "# knowing which company is highly repated and providing job services in the data set \n",
    "company_name=df.company_name.value_counts()\n",
    "company_name"
   ]
  },
  {
   "cell_type": "code",
   "execution_count": 31,
   "id": "dae16a7f",
   "metadata": {},
   "outputs": [
    {
     "data": {
      "text/plain": [
       "TCS                 10\n",
       "Deloitte            10\n",
       "UST                 10\n",
       "DXC Technology      10\n",
       "Mindtree            10\n",
       "Accenture           10\n",
       "HCL Technologies    10\n",
       "JP Morgan Chase     10\n",
       "Tech Mahindra       10\n",
       "Wipro               10\n",
       "Name: company_name, dtype: int64"
      ]
     },
     "execution_count": 31,
     "metadata": {},
     "output_type": "execute_result"
    }
   ],
   "source": [
    "company_name.head(10)"
   ]
  },
  {
   "cell_type": "code",
   "execution_count": 37,
   "id": "ec402188",
   "metadata": {},
   "outputs": [
    {
     "data": {
      "text/plain": [
       "<AxesSubplot:>"
      ]
     },
     "execution_count": 37,
     "metadata": {},
     "output_type": "execute_result"
    },
    {
     "data": {
      "image/png": "[encoded data removed]",
      "text/plain": [
       "<Figure size 1080x432 with 1 Axes>"
      ]
     },
     "metadata": {
      "needs_background": "light"
     },
     "output_type": "display_data"
    }
   ],
   "source": [
    "plt.figure(figsize = (15,6))\n",
    "company_name[company_name>8].plot(kind='bar')"
   ]
  },
  {
   "cell_type": "code",
   "execution_count": 39,
   "id": "4436a364",
   "metadata": {},
   "outputs": [
    {
     "data": {
      "text/plain": [
       "<AxesSubplot:ylabel='company_name'>"
      ]
     },
     "execution_count": 39,
     "metadata": {},
     "output_type": "execute_result"
    },
    {
     "data": {
      "image/png": "[encoded data removed]",
      "text/plain": [
       "<Figure size 1080x432 with 1 Axes>"
      ]
     },
     "metadata": {},
     "output_type": "display_data"
    }
   ],
   "source": [
    "plt.figure(figsize = (15,6))\n",
    "company_name[company_name>8].plot(kind='pie')"
   ]
  },
  {
   "cell_type": "code",
   "execution_count": 41,
   "id": "a4325191",
   "metadata": {},
   "outputs": [
    {
     "data": {
      "text/plain": [
       "Data Scientist               188\n",
       "Business Analyst             188\n",
       "Data Engineer                188\n",
       "Data Analyst                 187\n",
       "Senior Business Analyst      187\n",
       "Senior Data Analyst          187\n",
       "Senior Data Scientist        185\n",
       "Senior Data Engineer         183\n",
       "Machine Learning Engineer     59\n",
       "Data Architect                50\n",
       "Name: job_title, dtype: int64"
      ]
     },
     "execution_count": 41,
     "metadata": {},
     "output_type": "execute_result"
    }
   ],
   "source": [
    "job=df.job_title.value_counts()\n",
    "job"
   ]
  },
  {
   "cell_type": "code",
   "execution_count": 52,
   "id": "230beeaa",
   "metadata": {},
   "outputs": [
    {
     "data": {
      "text/plain": [
       "<AxesSubplot:>"
      ]
     },
     "execution_count": 52,
     "metadata": {},
     "output_type": "execute_result"
    },
    {
     "data": {
      "image/png": "[encoded data removed]",
      "text/plain": [
       "<Figure size 1080x432 with 1 Axes>"
      ]
     },
     "metadata": {
      "needs_background": "light"
     },
     "output_type": "display_data"
    }
   ],
   "source": [
    "plt.figure(figsize = (15,6))\n",
    "job.plot(kind='bar',color='g')"
   ]
  },
  {
   "cell_type": "code",
   "execution_count": 54,
   "id": "8bb36846",
   "metadata": {},
   "outputs": [
    {
     "data": {
      "text/plain": [
       "1     358\n",
       "2     356\n",
       "3     233\n",
       "4     191\n",
       "0     170\n",
       "5     125\n",
       "6      55\n",
       "7      48\n",
       "8      27\n",
       "9      10\n",
       "10     10\n",
       "13      5\n",
       "14      4\n",
       "12      4\n",
       "11      3\n",
       "15      1\n",
       "21      1\n",
       "16      1\n",
       "Name: min_experience, dtype: int64"
      ]
     },
     "execution_count": 54,
     "metadata": {},
     "output_type": "execute_result"
    }
   ],
   "source": []
  },
  {
   "cell_type": "code",
   "execution_count": 49,
   "id": "0c85b00e",
   "metadata": {},
   "outputs": [
    {
     "data": {
      "text/plain": [
       "<AxesSubplot:>"
      ]
     },
     "execution_count": 49,
     "metadata": {},
     "output_type": "execute_result"
    },
    {
     "data": {
      "image/png": "[encoded data removed]",
      "text/plain": [
       "<Figure size 432x288 with 1 Axes>"
      ]
     },
     "metadata": {
      "needs_background": "light"
     },
     "output_type": "display_data"
    }
   ],
   "source": [
    "mib_experience=df['min_experience']\n",
    "mib_experience.plot(kind='bar')"
   ]
  },
  {
   "cell_type": "code",
   "execution_count": 73,
   "id": "1f59e59a",
   "metadata": {},
   "outputs": [
    {
     "data": {
      "text/plain": [
       "<BarContainer object of 1602 artists>"
      ]
     },
     "execution_count": 73,
     "metadata": {},
     "output_type": "execute_result"
    },
    {
     "data": {
      "image/png": "[encoded data removed]",
      "text/plain": [
       "<Figure size 1080x432 with 1 Axes>"
      ]
     },
     "metadata": {
      "needs_background": "light"
     },
     "output_type": "display_data"
    }
   ],
   "source": [
    "plt.figure(figsize = (15,6))\n",
    "plt.bar(df['company_name'],df['min_salary'])"
   ]
  },
  {
   "cell_type": "code",
   "execution_count": null,
   "id": "f19fb304",
   "metadata": {},
   "outputs": [],
   "source": []
  },
  {
   "cell_type": "code",
   "execution_count": 74,
   "id": "c1ba02db",
   "metadata": {},
   "outputs": [
    {
     "data": {
      "text/plain": [
       "<BarContainer object of 1602 artists>"
      ]
     },
     "execution_count": 74,
     "metadata": {},
     "output_type": "execute_result"
    },
    {
     "data": {
      "image/png": "[encoded data removed]",
      "text/plain": [
       "<Figure size 1080x432 with 1 Axes>"
      ]
     },
     "metadata": {
      "needs_background": "light"
     },
     "output_type": "display_data"
    }
   ],
   "source": [
    "plt.figure(figsize = (15,6))\n",
    "plt.bar(df['max_salary'],df['min_salary'])"
   ]
  },
  {
   "cell_type": "code",
   "execution_count": 75,
   "id": "e9926b66",
   "metadata": {},
   "outputs": [
    {
     "data": {
      "text/plain": [
       "<BarContainer object of 1602 artists>"
      ]
     },
     "execution_count": 75,
     "metadata": {},
     "output_type": "execute_result"
    },
    {
     "data": {
      "image/png": "[encoded data removed]",
      "text/plain": [
       "<Figure size 1080x432 with 1 Axes>"
      ]
     },
     "metadata": {
      "needs_background": "light"
     },
     "output_type": "display_data"
    }
   ],
   "source": [
    "plt.figure(figsize = (15,6))\n",
    "plt.bar(df['company_name'],df['num_of_salaries'])"
   ]
  },
  {
   "cell_type": "code",
   "execution_count": 77,
   "id": "caa68468",
   "metadata": {},
   "outputs": [
    {
     "data": {
      "text/plain": [
       "0                  TCS\n",
       "1            Accenture\n",
       "2                  IBM\n",
       "3            Cognizant\n",
       "4            Capgemini\n",
       "5              Infosys\n",
       "6                Wipro\n",
       "7        Tech Mahindra\n",
       "8    Fractal Analytics\n",
       "9             Deloitte\n",
       "Name: company_name, dtype: object"
      ]
     },
     "execution_count": 77,
     "metadata": {},
     "output_type": "execute_result"
    }
   ],
   "source": [
    "company1=df['company_name'].head(10)\n",
    "company1"
   ]
  },
  {
   "cell_type": "code",
   "execution_count": 79,
   "id": "fa6ce08a",
   "metadata": {},
   "outputs": [],
   "source": [
    "no_salries=df['num_of_salaries'].head(10)"
   ]
  },
  {
   "cell_type": "code",
   "execution_count": 80,
   "id": "43f80b51",
   "metadata": {},
   "outputs": [
    {
     "data": {
      "text/plain": [
       "<BarContainer object of 10 artists>"
      ]
     },
     "execution_count": 80,
     "metadata": {},
     "output_type": "execute_result"
    },
    {
     "data": {
      "image/png": "[encoded data removed]",
      "text/plain": [
       "<Figure size 1080x432 with 1 Axes>"
      ]
     },
     "metadata": {
      "needs_background": "light"
     },
     "output_type": "display_data"
    }
   ],
   "source": [
    "plt.figure(figsize = (15,6))\n",
    "plt.bar(company1,no_salries)"
   ]
  },
  {
   "cell_type": "code",
   "execution_count": 86,
   "id": "3ebe11ec",
   "metadata": {},
   "outputs": [
    {
     "data": {
      "text/html": [
       "<div>\n",
       "<style scoped>\n",
       "    .dataframe tbody tr th:only-of-type {\n",
       "        vertical-align: middle;\n",
       "    }\n",
       "\n",
       "    .dataframe tbody tr th {\n",
       "        vertical-align: top;\n",
       "    }\n",
       "\n",
       "    .dataframe thead th {\n",
       "        text-align: right;\n",
       "    }\n",
       "</style>\n",
       "<table border=\"1\" class=\"dataframe\">\n",
       "  <thead>\n",
       "    <tr style=\"text-align: right;\">\n",
       "      <th></th>\n",
       "      <th>company_name</th>\n",
       "      <th>job_title</th>\n",
       "      <th>min_experience</th>\n",
       "      <th>avg_salary</th>\n",
       "      <th>min_salary</th>\n",
       "      <th>max_salary</th>\n",
       "      <th>num_of_salaries</th>\n",
       "    </tr>\n",
       "  </thead>\n",
       "  <tbody>\n",
       "    <tr>\n",
       "      <th>0</th>\n",
       "      <td>TCS</td>\n",
       "      <td>Data Scientist</td>\n",
       "      <td>2</td>\n",
       "      <td>7.8</td>\n",
       "      <td>4.5L</td>\n",
       "      <td>16.0L</td>\n",
       "      <td>841</td>\n",
       "    </tr>\n",
       "    <tr>\n",
       "      <th>1</th>\n",
       "      <td>Accenture</td>\n",
       "      <td>Data Scientist</td>\n",
       "      <td>2</td>\n",
       "      <td>12.8</td>\n",
       "      <td>5.8L</td>\n",
       "      <td>23.0L</td>\n",
       "      <td>501</td>\n",
       "    </tr>\n",
       "    <tr>\n",
       "      <th>2</th>\n",
       "      <td>IBM</td>\n",
       "      <td>Data Scientist</td>\n",
       "      <td>2</td>\n",
       "      <td>13.4</td>\n",
       "      <td>5.3L</td>\n",
       "      <td>25.0L</td>\n",
       "      <td>394</td>\n",
       "    </tr>\n",
       "    <tr>\n",
       "      <th>3</th>\n",
       "      <td>Cognizant</td>\n",
       "      <td>Data Scientist</td>\n",
       "      <td>2</td>\n",
       "      <td>9.8</td>\n",
       "      <td>5.0L</td>\n",
       "      <td>18.0L</td>\n",
       "      <td>318</td>\n",
       "    </tr>\n",
       "    <tr>\n",
       "      <th>4</th>\n",
       "      <td>Capgemini</td>\n",
       "      <td>Data Scientist</td>\n",
       "      <td>2</td>\n",
       "      <td>8.6</td>\n",
       "      <td>4.8L</td>\n",
       "      <td>14.6L</td>\n",
       "      <td>300</td>\n",
       "    </tr>\n",
       "    <tr>\n",
       "      <th>...</th>\n",
       "      <td>...</td>\n",
       "      <td>...</td>\n",
       "      <td>...</td>\n",
       "      <td>...</td>\n",
       "      <td>...</td>\n",
       "      <td>...</td>\n",
       "      <td>...</td>\n",
       "    </tr>\n",
       "    <tr>\n",
       "      <th>1597</th>\n",
       "      <td>Collabera Technologies</td>\n",
       "      <td>Data Architect</td>\n",
       "      <td>8</td>\n",
       "      <td>17.0</td>\n",
       "      <td>12.0L</td>\n",
       "      <td>23.1L</td>\n",
       "      <td>4</td>\n",
       "    </tr>\n",
       "    <tr>\n",
       "      <th>1598</th>\n",
       "      <td>Coforge</td>\n",
       "      <td>Data Architect</td>\n",
       "      <td>7</td>\n",
       "      <td>27.1</td>\n",
       "      <td>18.5L</td>\n",
       "      <td>39.0L</td>\n",
       "      <td>4</td>\n",
       "    </tr>\n",
       "    <tr>\n",
       "      <th>1599</th>\n",
       "      <td>Hitachi</td>\n",
       "      <td>Data Architect</td>\n",
       "      <td>21</td>\n",
       "      <td>40.0</td>\n",
       "      <td>25.0L</td>\n",
       "      <td>50.0L</td>\n",
       "      <td>3</td>\n",
       "    </tr>\n",
       "    <tr>\n",
       "      <th>1600</th>\n",
       "      <td>GE Power</td>\n",
       "      <td>Data Architect</td>\n",
       "      <td>7</td>\n",
       "      <td>16.7</td>\n",
       "      <td>14.9L</td>\n",
       "      <td>19.0L</td>\n",
       "      <td>3</td>\n",
       "    </tr>\n",
       "    <tr>\n",
       "      <th>1601</th>\n",
       "      <td>T-Systems</td>\n",
       "      <td>Data Architect</td>\n",
       "      <td>16</td>\n",
       "      <td>33.3</td>\n",
       "      <td>33.0L</td>\n",
       "      <td>34.0L</td>\n",
       "      <td>3</td>\n",
       "    </tr>\n",
       "  </tbody>\n",
       "</table>\n",
       "<p>1602 rows × 7 columns</p>\n",
       "</div>"
      ],
      "text/plain": [
       "                company_name       job_title  min_experience avg_salary  \\\n",
       "0                        TCS  Data Scientist               2        7.8   \n",
       "1                  Accenture  Data Scientist               2       12.8   \n",
       "2                        IBM  Data Scientist               2       13.4   \n",
       "3                  Cognizant  Data Scientist               2        9.8   \n",
       "4                  Capgemini  Data Scientist               2        8.6   \n",
       "...                      ...             ...             ...        ...   \n",
       "1597  Collabera Technologies  Data Architect               8       17.0   \n",
       "1598                 Coforge  Data Architect               7       27.1   \n",
       "1599                 Hitachi  Data Architect              21       40.0   \n",
       "1600                GE Power  Data Architect               7       16.7   \n",
       "1601               T-Systems  Data Architect              16       33.3   \n",
       "\n",
       "     min_salary max_salary  num_of_salaries  \n",
       "0          4.5L      16.0L              841  \n",
       "1          5.8L      23.0L              501  \n",
       "2          5.3L      25.0L              394  \n",
       "3          5.0L      18.0L              318  \n",
       "4          4.8L      14.6L              300  \n",
       "...         ...        ...              ...  \n",
       "1597      12.0L      23.1L                4  \n",
       "1598      18.5L      39.0L                4  \n",
       "1599      25.0L      50.0L                3  \n",
       "1600      14.9L      19.0L                3  \n",
       "1601      33.0L      34.0L                3  \n",
       "\n",
       "[1602 rows x 7 columns]"
      ]
     },
     "execution_count": 86,
     "metadata": {},
     "output_type": "execute_result"
    }
   ],
   "source": [
    "df"
   ]
  },
  {
   "cell_type": "code",
   "execution_count": 98,
   "id": "19dbcdc0",
   "metadata": {},
   "outputs": [],
   "source": [
    "job_title=df['max_salary'].head(10)"
   ]
  },
  {
   "cell_type": "code",
   "execution_count": 101,
   "id": "02b9e085",
   "metadata": {},
   "outputs": [
    {
     "data": {
      "text/plain": [
       "<BarContainer object of 10 artists>"
      ]
     },
     "execution_count": 101,
     "metadata": {},
     "output_type": "execute_result"
    },
    {
     "data": {
      "image/png": "[encoded data removed]",
      "text/plain": [
       "<Figure size 1080x432 with 1 Axes>"
      ]
     },
     "metadata": {
      "needs_background": "light"
     },
     "output_type": "display_data"
    }
   ],
   "source": [
    "plt.figure(figsize = (15,6))\n",
    "plt.bar(company1,job_title,color='y')"
   ]
  },
  {
   "cell_type": "code",
   "execution_count": 102,
   "id": "f63ce1d8",
   "metadata": {},
   "outputs": [],
   "source": [
    "min_experience=df['min_experience'].head(10)"
   ]
  },
  {
   "cell_type": "code",
   "execution_count": 104,
   "id": "14697737",
   "metadata": {},
   "outputs": [
    {
     "data": {
      "text/plain": [
       "<BarContainer object of 10 artists>"
      ]
     },
     "execution_count": 104,
     "metadata": {},
     "output_type": "execute_result"
    },
    {
     "data": {
      "image/png": "[encoded data removed]",
      "text/plain": [
       "<Figure size 1080x432 with 1 Axes>"
      ]
     },
     "metadata": {
      "needs_background": "light"
     },
     "output_type": "display_data"
    }
   ],
   "source": [
    "plt.figure(figsize = (15,6))\n",
    "plt.bar(company1,min_experience,color='g')"
   ]
  },
  {
   "cell_type": "markdown",
   "id": "7ac8fd92",
   "metadata": {},
   "source": []
  },
  {
   "cell_type": "code",
   "execution_count": null,
   "id": "6e15d581-45f0-4140-9c64-af94c909685e",
   "metadata": {},
   "outputs": [],
   "source": []
  },
  {
   "cell_type": "code",
   "execution_count": null,
   "id": "6120ef0e-4767-4563-b965-2a4a02924baf",
   "metadata": {},
   "outputs": [],
   "source": []
  }
 ],
 "metadata": {
  "kernelspec": {
   "display_name": "Python 3 (ipykernel)",
   "language": "python",
   "name": "python3"
  },
  "language_info": {
   "codemirror_mode": {
    "name": "ipython",
    "version": 3
   },
   "file_extension": ".py",
   "mimetype": "text/x-python",
   "name": "python",
   "nbconvert_exporter": "python",
   "pygments_lexer": "ipython3",
   "version": "3.10.4"
  }
 },
 "nbformat": 4,
 "nbformat_minor": 5
}
